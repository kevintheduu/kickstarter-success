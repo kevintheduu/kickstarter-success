{
 "cells": [
  {
   "cell_type": "markdown",
   "metadata": {},
   "source": [
    "### Exploring Our Data"
   ]
  },
  {
   "cell_type": "markdown",
   "metadata": {},
   "source": [
    "### We are going to use our 2018 data set instead "
   ]
  },
  {
   "cell_type": "code",
   "execution_count": 1,
   "metadata": {},
   "outputs": [],
   "source": [
    "import collections\n",
    "from sklearn.model_selection import train_test_split\n",
    "from sklearn.tree import DecisionTreeClassifier\n",
    "from sklearn.preprocessing import OneHotEncoder\n",
    "from IPython.display import Image  \n",
    "from sklearn import tree\n",
    "#import pydotplus\n",
    "import pandas as pd\n",
    "import numpy as np\n",
    "import seaborn as sns"
   ]
  },
  {
   "cell_type": "code",
   "execution_count": 2,
   "metadata": {},
   "outputs": [],
   "source": [
    "df_2018 = pd.read_csv('kickstarter-projects/ks-projects-201801.csv', encoding ='iso-8859-1')"
   ]
  },
  {
   "cell_type": "code",
   "execution_count": 3,
   "metadata": {},
   "outputs": [
    {
     "data": {
      "text/html": [
       "<div>\n",
       "<style scoped>\n",
       "    .dataframe tbody tr th:only-of-type {\n",
       "        vertical-align: middle;\n",
       "    }\n",
       "\n",
       "    .dataframe tbody tr th {\n",
       "        vertical-align: top;\n",
       "    }\n",
       "\n",
       "    .dataframe thead th {\n",
       "        text-align: right;\n",
       "    }\n",
       "</style>\n",
       "<table border=\"1\" class=\"dataframe\">\n",
       "  <thead>\n",
       "    <tr style=\"text-align: right;\">\n",
       "      <th></th>\n",
       "      <th>ID</th>\n",
       "      <th>name</th>\n",
       "      <th>category</th>\n",
       "      <th>main_category</th>\n",
       "      <th>currency</th>\n",
       "      <th>deadline</th>\n",
       "      <th>goal</th>\n",
       "      <th>launched</th>\n",
       "      <th>pledged</th>\n",
       "      <th>state</th>\n",
       "      <th>backers</th>\n",
       "      <th>country</th>\n",
       "      <th>usd pledged</th>\n",
       "      <th>usd_pledged_real</th>\n",
       "      <th>usd_goal_real</th>\n",
       "    </tr>\n",
       "  </thead>\n",
       "  <tbody>\n",
       "    <tr>\n",
       "      <th>0</th>\n",
       "      <td>1000002330</td>\n",
       "      <td>The Songs of Adelaide &amp; Abullah</td>\n",
       "      <td>Poetry</td>\n",
       "      <td>Publishing</td>\n",
       "      <td>GBP</td>\n",
       "      <td>2015-10-09</td>\n",
       "      <td>1000.0</td>\n",
       "      <td>2015-08-11 12:12:28</td>\n",
       "      <td>0.0</td>\n",
       "      <td>failed</td>\n",
       "      <td>0</td>\n",
       "      <td>GB</td>\n",
       "      <td>0.0</td>\n",
       "      <td>0.0</td>\n",
       "      <td>1533.95</td>\n",
       "    </tr>\n",
       "    <tr>\n",
       "      <th>1</th>\n",
       "      <td>1000003930</td>\n",
       "      <td>Greeting From Earth: ZGAC Arts Capsule For ET</td>\n",
       "      <td>Narrative Film</td>\n",
       "      <td>Film &amp; Video</td>\n",
       "      <td>USD</td>\n",
       "      <td>2017-11-01</td>\n",
       "      <td>30000.0</td>\n",
       "      <td>2017-09-02 04:43:57</td>\n",
       "      <td>2421.0</td>\n",
       "      <td>failed</td>\n",
       "      <td>15</td>\n",
       "      <td>US</td>\n",
       "      <td>100.0</td>\n",
       "      <td>2421.0</td>\n",
       "      <td>30000.00</td>\n",
       "    </tr>\n",
       "    <tr>\n",
       "      <th>2</th>\n",
       "      <td>1000004038</td>\n",
       "      <td>Where is Hank?</td>\n",
       "      <td>Narrative Film</td>\n",
       "      <td>Film &amp; Video</td>\n",
       "      <td>USD</td>\n",
       "      <td>2013-02-26</td>\n",
       "      <td>45000.0</td>\n",
       "      <td>2013-01-12 00:20:50</td>\n",
       "      <td>220.0</td>\n",
       "      <td>failed</td>\n",
       "      <td>3</td>\n",
       "      <td>US</td>\n",
       "      <td>220.0</td>\n",
       "      <td>220.0</td>\n",
       "      <td>45000.00</td>\n",
       "    </tr>\n",
       "    <tr>\n",
       "      <th>3</th>\n",
       "      <td>1000007540</td>\n",
       "      <td>ToshiCapital Rekordz Needs Help to Complete Album</td>\n",
       "      <td>Music</td>\n",
       "      <td>Music</td>\n",
       "      <td>USD</td>\n",
       "      <td>2012-04-16</td>\n",
       "      <td>5000.0</td>\n",
       "      <td>2012-03-17 03:24:11</td>\n",
       "      <td>1.0</td>\n",
       "      <td>failed</td>\n",
       "      <td>1</td>\n",
       "      <td>US</td>\n",
       "      <td>1.0</td>\n",
       "      <td>1.0</td>\n",
       "      <td>5000.00</td>\n",
       "    </tr>\n",
       "    <tr>\n",
       "      <th>4</th>\n",
       "      <td>1000011046</td>\n",
       "      <td>Community Film Project: The Art of Neighborhoo...</td>\n",
       "      <td>Film &amp; Video</td>\n",
       "      <td>Film &amp; Video</td>\n",
       "      <td>USD</td>\n",
       "      <td>2015-08-29</td>\n",
       "      <td>19500.0</td>\n",
       "      <td>2015-07-04 08:35:03</td>\n",
       "      <td>1283.0</td>\n",
       "      <td>canceled</td>\n",
       "      <td>14</td>\n",
       "      <td>US</td>\n",
       "      <td>1283.0</td>\n",
       "      <td>1283.0</td>\n",
       "      <td>19500.00</td>\n",
       "    </tr>\n",
       "  </tbody>\n",
       "</table>\n",
       "</div>"
      ],
      "text/plain": [
       "           ID                                               name  \\\n",
       "0  1000002330                    The Songs of Adelaide & Abullah   \n",
       "1  1000003930      Greeting From Earth: ZGAC Arts Capsule For ET   \n",
       "2  1000004038                                     Where is Hank?   \n",
       "3  1000007540  ToshiCapital Rekordz Needs Help to Complete Album   \n",
       "4  1000011046  Community Film Project: The Art of Neighborhoo...   \n",
       "\n",
       "         category main_category currency    deadline     goal  \\\n",
       "0          Poetry    Publishing      GBP  2015-10-09   1000.0   \n",
       "1  Narrative Film  Film & Video      USD  2017-11-01  30000.0   \n",
       "2  Narrative Film  Film & Video      USD  2013-02-26  45000.0   \n",
       "3           Music         Music      USD  2012-04-16   5000.0   \n",
       "4    Film & Video  Film & Video      USD  2015-08-29  19500.0   \n",
       "\n",
       "              launched  pledged     state  backers country  usd pledged  \\\n",
       "0  2015-08-11 12:12:28      0.0    failed        0      GB          0.0   \n",
       "1  2017-09-02 04:43:57   2421.0    failed       15      US        100.0   \n",
       "2  2013-01-12 00:20:50    220.0    failed        3      US        220.0   \n",
       "3  2012-03-17 03:24:11      1.0    failed        1      US          1.0   \n",
       "4  2015-07-04 08:35:03   1283.0  canceled       14      US       1283.0   \n",
       "\n",
       "   usd_pledged_real  usd_goal_real  \n",
       "0               0.0        1533.95  \n",
       "1            2421.0       30000.00  \n",
       "2             220.0       45000.00  \n",
       "3               1.0        5000.00  \n",
       "4            1283.0       19500.00  "
      ]
     },
     "execution_count": 3,
     "metadata": {},
     "output_type": "execute_result"
    }
   ],
   "source": [
    "df_2018.head()"
   ]
  },
  {
   "cell_type": "code",
   "execution_count": 4,
   "metadata": {},
   "outputs": [
    {
     "name": "stdout",
     "output_type": "stream",
     "text": [
      "<class 'pandas.core.frame.DataFrame'>\n",
      "RangeIndex: 378661 entries, 0 to 378660\n",
      "Data columns (total 15 columns):\n",
      "ID                  378661 non-null int64\n",
      "name                378657 non-null object\n",
      "category            378661 non-null object\n",
      "main_category       378661 non-null object\n",
      "currency            378661 non-null object\n",
      "deadline            378661 non-null object\n",
      "goal                378661 non-null float64\n",
      "launched            378661 non-null object\n",
      "pledged             378661 non-null float64\n",
      "state               378661 non-null object\n",
      "backers             378661 non-null int64\n",
      "country             378661 non-null object\n",
      "usd pledged         374864 non-null float64\n",
      "usd_pledged_real    378661 non-null float64\n",
      "usd_goal_real       378661 non-null float64\n",
      "dtypes: float64(5), int64(2), object(8)\n",
      "memory usage: 43.3+ MB\n"
     ]
    }
   ],
   "source": [
    "df_2018.info()"
   ]
  },
  {
   "cell_type": "code",
   "execution_count": 5,
   "metadata": {},
   "outputs": [],
   "source": [
    "#Detects the live in state and drops them \n",
    "df_2018 = df_2018.loc[df_2018['state']!='live']\n",
    "\n",
    "#Detects the undefined in state and drops them \n",
    "df_2018 = df_2018.loc[df_2018['state']!='undefined']\n",
    "\n",
    "#Detects the undefined in state and drops them \n",
    "df_2018 = df_2018.loc[df_2018['state']!='canceled']\n",
    "\n",
    "#Detects the undefined in state and drops them \n",
    "df_2018 = df_2018.loc[df_2018['state']!='suspended']\n",
    "\n",
    "#Detects the undefined in usd pledged and drops them \n",
    "df_2018 = df_2018.loc[~df_2018['usd pledged'].isna(), :]\n",
    "\n",
    "#Detects the undefined in usd pledged and drops them \n",
    "df_2018 = df_2018.loc[~df_2018['name'].isna(), :]"
   ]
  },
  {
   "cell_type": "code",
   "execution_count": 6,
   "metadata": {},
   "outputs": [
    {
     "data": {
      "image/png": "[encoded data removed]",
      "text/plain": [
       "<Figure size 432x360 with 2 Axes>"
      ]
     },
     "metadata": {},
     "output_type": "display_data"
    }
   ],
   "source": [
    "sns.set(rc={'figure.figsize': (6,5)})\n",
    "sns.heatmap(df_2018.corr());"
   ]
  },
  {
   "cell_type": "markdown",
   "metadata": {},
   "source": [
    "### A look at successes and failures by main category"
   ]
  },
  {
   "cell_type": "code",
   "execution_count": 7,
   "metadata": {},
   "outputs": [
    {
     "data": {
      "text/plain": [
       "Product Design       18679\n",
       "Documentary          14523\n",
       "Music                12485\n",
       "Tabletop Games       11744\n",
       "Shorts               11394\n",
       "Food                 10416\n",
       "Video Games           9327\n",
       "Film & Video          8601\n",
       "Fiction               8108\n",
       "Fashion               7529\n",
       "Art                   7486\n",
       "Nonfiction            7414\n",
       "Theater               6684\n",
       "Rock                  6246\n",
       "Children's Books      6198\n",
       "Apparel               6165\n",
       "Technology            5723\n",
       "Indie Rock            5329\n",
       "Apps                  5287\n",
       "Photography           5246\n",
       "Webseries             5148\n",
       "Publishing            5020\n",
       "Narrative Film        4617\n",
       "Comics                4581\n",
       "Web                   4309\n",
       "Country & Folk        4213\n",
       "Crafts                4152\n",
       "Design                3547\n",
       "Hip-Hop               3459\n",
       "Hardware              3114\n",
       "                     ...  \n",
       "Blues                  234\n",
       "Animals                229\n",
       "Couture                227\n",
       "Fabrication Tools      215\n",
       "Makerspaces            208\n",
       "Movie Theaters         201\n",
       "Puzzles                200\n",
       "Printing               195\n",
       "Stationery             190\n",
       "Bacon                  181\n",
       "Video Art              174\n",
       "Photo                  169\n",
       "Knitting               164\n",
       "Romance                163\n",
       "Crochet                151\n",
       "Workshops              148\n",
       "Translations           137\n",
       "Glass                  122\n",
       "Latin                  121\n",
       "Pet Fashion            119\n",
       "Embroidery             100\n",
       "Typography              97\n",
       "Pottery                 88\n",
       "Weaving                 82\n",
       "Quilts                  75\n",
       "Residencies             68\n",
       "Letterpress             46\n",
       "Chiptune                33\n",
       "Literary Spaces         19\n",
       "Taxidermy               10\n",
       "Name: category, Length: 159, dtype: int64"
      ]
     },
     "execution_count": 7,
     "metadata": {},
     "output_type": "execute_result"
    }
   ],
   "source": [
    "df_2018.category.value_counts()"
   ]
  },
  {
   "cell_type": "code",
   "execution_count": 8,
   "metadata": {},
   "outputs": [
    {
     "data": {
      "text/plain": [
       "array(['Publishing', 'Film & Video', 'Music', 'Food', 'Crafts', 'Games',\n",
       "       'Design', 'Comics', 'Fashion', 'Theater', 'Art', 'Photography',\n",
       "       'Technology', 'Dance', 'Journalism'], dtype=object)"
      ]
     },
     "execution_count": 8,
     "metadata": {},
     "output_type": "execute_result"
    }
   ],
   "source": [
    "df_2018['main_category'].unique()"
   ]
  },
  {
   "cell_type": "code",
   "execution_count": 9,
   "metadata": {},
   "outputs": [],
   "source": [
    "successful_df = df_2018.loc[df_2018['state'] =='successful']"
   ]
  },
  {
   "cell_type": "code",
   "execution_count": 10,
   "metadata": {},
   "outputs": [],
   "source": [
    "failed_df = df_2018.loc[df_2018['state'] =='failed']"
   ]
  },
  {
   "cell_type": "code",
   "execution_count": 11,
   "metadata": {},
   "outputs": [],
   "source": [
    "successful_list = successful_df['main_category'].tolist()"
   ]
  },
  {
   "cell_type": "code",
   "execution_count": 12,
   "metadata": {},
   "outputs": [],
   "source": [
    "failed_list = failed_df['main_category'].tolist()"
   ]
  },
  {
   "cell_type": "code",
   "execution_count": 13,
   "metadata": {},
   "outputs": [
    {
     "name": "stdout",
     "output_type": "stream",
     "text": [
      "Counter({'Music': 24105, 'Film & Video': 23612, 'Games': 12518, 'Publishing': 12300, 'Art': 11510, 'Design': 10549, 'Theater': 6534, 'Technology': 6433, 'Food': 6085, 'Comics': 5842, 'Fashion': 5593, 'Photography': 3305, 'Dance': 2338, 'Crafts': 2115, 'Journalism': 1012})\n"
     ]
    }
   ],
   "source": [
    "from collections import Counter\n",
    "list1=successful_list\n",
    "counts_s = Counter(list1)\n",
    "print(counts_s)"
   ]
  },
  {
   "cell_type": "code",
   "execution_count": 14,
   "metadata": {},
   "outputs": [
    {
     "name": "stdout",
     "output_type": "stream",
     "text": [
      "Counter({'Film & Video': 32891, 'Publishing': 23113, 'Music': 21696, 'Technology': 20613, 'Games': 16002, 'Food': 15969, 'Design': 14814, 'Fashion': 14181, 'Art': 14130, 'Photography': 6384, 'Crafts': 5703, 'Comics': 4036, 'Theater': 3708, 'Journalism': 3136, 'Dance': 1235})\n"
     ]
    }
   ],
   "source": [
    "list2=failed_list\n",
    "counts_f = Counter(list2)\n",
    "print(counts_f)"
   ]
  },
  {
   "cell_type": "code",
   "execution_count": 15,
   "metadata": {},
   "outputs": [
    {
     "data": {
      "image/png": "[encoded data removed]",
      "text/plain": [
       "<Figure size 1440x720 with 1 Axes>"
      ]
     },
     "metadata": {},
     "output_type": "display_data"
    }
   ],
   "source": [
    "import numpy as np\n",
    "import matplotlib.pyplot as plt\n",
    "\n",
    "# data to plot\n",
    "n_groups = 15\n",
    "successful = counts_s.values()\n",
    "failed = counts_f.values()\n",
    "\n",
    "# create plot\n",
    "fig, ax = plt.subplots(figsize=(20,10))\n",
    "index = np.arange(n_groups)\n",
    "bar_width = 0.35\n",
    "opacity = 0.8\n",
    "\n",
    "rects1 = plt.bar(index, successful, bar_width,\n",
    "alpha=opacity,\n",
    "color='black',\n",
    "label='successful')\n",
    "\n",
    "rects2 = plt.bar(index + bar_width, failed, bar_width,\n",
    "alpha=opacity,\n",
    "color='grey',\n",
    "label='failed')\n",
    "\n",
    "plt.xlabel('Main Category')\n",
    "plt.ylabel('Projects on Kickstarter in 2018')\n",
    "plt.title('Successes & Failures By Category')\n",
    "plt.xticks(index + bar_width, counts_s.keys())\n",
    "plt.legend()\n",
    "\n",
    "plt.tight_layout()\n",
    "plt.show()\n"
   ]
  },
  {
   "cell_type": "code",
   "execution_count": 16,
   "metadata": {},
   "outputs": [],
   "source": [
    "successes_tuples = [(key, value) for (key, value) in sorted(counts_s.items())]"
   ]
  },
  {
   "cell_type": "code",
   "execution_count": 17,
   "metadata": {},
   "outputs": [],
   "source": [
    "failed_tuples = [(key, value) for (key, value) in sorted(counts_f.items())]"
   ]
  },
  {
   "cell_type": "code",
   "execution_count": 18,
   "metadata": {},
   "outputs": [],
   "source": [
    "difference = []\n",
    "for i in range(15):\n",
    "    numerator = list(successes_tuples[i])[1] - list(failed_tuples[i])[1]\n",
    "    denominator = list(successes_tuples[i])[1] + list(failed_tuples[i])[1]\n",
    "    temp = numerator/denominator\n",
    "    difference.append(temp)\n"
   ]
  },
  {
   "cell_type": "code",
   "execution_count": 19,
   "metadata": {},
   "outputs": [],
   "source": [
    "category_names = list(dict(successes_tuples).keys())"
   ]
  },
  {
   "cell_type": "code",
   "execution_count": 20,
   "metadata": {},
   "outputs": [
    {
     "name": "stdout",
     "output_type": "stream",
     "text": [
      "{'Art': -0.10218408736349453, 'Comics': 0.18283053249645678, 'Crafts': -0.4589409056024559, 'Dance': 0.30870417016512736, 'Design': -0.16815834089027323, 'Fashion': -0.43430767674724385, 'Film & Video': -0.1642213687768791, 'Food': -0.4481726670898703, 'Games': -0.12215988779803647, 'Journalism': -0.5120540019286403, 'Music': 0.05259710486670597, 'Photography': -0.3177830529466405, 'Publishing': -0.30533984694886057, 'Technology': -0.5242919470531687, 'Theater': 0.2759226713532513}\n"
     ]
    }
   ],
   "source": [
    "keys = category_names\n",
    "values = difference\n",
    "dictionary = dict(zip(keys, values))\n",
    "print(dictionary)"
   ]
  },
  {
   "cell_type": "code",
   "execution_count": 21,
   "metadata": {},
   "outputs": [
    {
     "data": {
      "image/png": "[encoded data removed]",
      "text/plain": [
       "<Figure size 1080x360 with 1 Axes>"
      ]
     },
     "metadata": {},
     "output_type": "display_data"
    }
   ],
   "source": [
    "import matplotlib.pyplot as plt \n",
    "\n",
    "sns.set(style=\"white\", context=\"talk\")\n",
    "f, ax1 = plt.subplots(figsize=(15,5))\n",
    "\n",
    "# Generate some sequential data\n",
    "x = category_names\n",
    "y1 = difference\n",
    "g = sns.barplot(x=x, y=y1, palette=\"GnBu_d\")\n",
    "ax1.axhline(0, color=\"k\", clip_on=False)\n",
    "ax1.set_ylabel(\"percent\")\n",
    "g.set_xticklabels(g.get_xticklabels(), rotation=30)\n",
    "\n",
    "label = [\"{:.2%}\".format(x) for x in difference]\n"
   ]
  },
  {
   "cell_type": "code",
   "execution_count": 22,
   "metadata": {},
   "outputs": [],
   "source": [
    "successful_list_1 = successful_df['country'].tolist()"
   ]
  },
  {
   "cell_type": "code",
   "execution_count": 23,
   "metadata": {},
   "outputs": [],
   "source": [
    "failed_list_1 = failed_df['country'].tolist()"
   ]
  },
  {
   "cell_type": "code",
   "execution_count": 24,
   "metadata": {},
   "outputs": [
    {
     "name": "stdout",
     "output_type": "stream",
     "text": [
      "Counter({'Music': 24105, 'Film & Video': 23612, 'Games': 12518, 'Publishing': 12300, 'Art': 11510, 'Design': 10549, 'Theater': 6534, 'Technology': 6433, 'Food': 6085, 'Comics': 5842, 'Fashion': 5593, 'Photography': 3305, 'Dance': 2338, 'Crafts': 2115, 'Journalism': 1012})\n"
     ]
    }
   ],
   "source": [
    "from collections import Counter\n",
    "list1_1=successful_list\n",
    "counts_s_1 = Counter(list1_1)\n",
    "print(counts_s_1)"
   ]
  },
  {
   "cell_type": "code",
   "execution_count": 25,
   "metadata": {},
   "outputs": [
    {
     "name": "stdout",
     "output_type": "stream",
     "text": [
      "Counter({'Film & Video': 32891, 'Publishing': 23113, 'Music': 21696, 'Technology': 20613, 'Games': 16002, 'Food': 15969, 'Design': 14814, 'Fashion': 14181, 'Art': 14130, 'Photography': 6384, 'Crafts': 5703, 'Comics': 4036, 'Theater': 3708, 'Journalism': 3136, 'Dance': 1235})\n"
     ]
    }
   ],
   "source": [
    "list2_1=failed_list\n",
    "counts_f_1 = Counter(list2_1)\n",
    "print(counts_f_1)"
   ]
  },
  {
   "cell_type": "markdown",
   "metadata": {},
   "source": [
    "### Now let's start to engineer our features "
   ]
  },
  {
   "cell_type": "code",
   "execution_count": 26,
   "metadata": {},
   "outputs": [],
   "source": [
    "X_train, X_test, y_train, y_test = train_test_split(df_2018.drop(\"state\", axis=1),\n",
    "                                                    df_2018[\"state\"],\n",
    "                                                    test_size=0.25,\n",
    "                                                    random_state=2019)\n"
   ]
  },
  {
   "cell_type": "code",
   "execution_count": 27,
   "metadata": {},
   "outputs": [
    {
     "data": {
      "text/plain": [
       "(failed        148193\n",
       " successful    100403\n",
       " Name: state, dtype: int64, failed        49418\n",
       " successful    33448\n",
       " Name: state, dtype: int64)"
      ]
     },
     "execution_count": 27,
     "metadata": {},
     "output_type": "execute_result"
    }
   ],
   "source": [
    "y_train.value_counts(), y_test.value_counts()\n"
   ]
  },
  {
   "cell_type": "code",
   "execution_count": 28,
   "metadata": {},
   "outputs": [
    {
     "data": {
      "text/plain": [
       "(248596, 14)"
      ]
     },
     "execution_count": 28,
     "metadata": {},
     "output_type": "execute_result"
    }
   ],
   "source": [
    "X_train.shape"
   ]
  },
  {
   "cell_type": "markdown",
   "metadata": {},
   "source": [
    "## One Hot Encoding"
   ]
  },
  {
   "cell_type": "code",
   "execution_count": 29,
   "metadata": {},
   "outputs": [
    {
     "data": {
      "text/plain": [
       "OneHotEncoder(categorical_features=None, categories='auto', drop='first',\n",
       "              dtype=<class 'numpy.float64'>, handle_unknown='error',\n",
       "              n_values=None, sparse=True)"
      ]
     },
     "execution_count": 29,
     "metadata": {},
     "output_type": "execute_result"
    }
   ],
   "source": [
    "\n",
    "\n",
    "\n",
    "encoder = OneHotEncoder(drop='first', categories=\"auto\")\n",
    "encoder.fit(X_train[[\"main_category\", \"country\"]])\n",
    "\n"
   ]
  },
  {
   "cell_type": "code",
   "execution_count": 30,
   "metadata": {
    "scrolled": true
   },
   "outputs": [
    {
     "data": {
      "text/plain": [
       "[array(['Art', 'Comics', 'Crafts', 'Dance', 'Design', 'Fashion',\n",
       "        'Film & Video', 'Food', 'Games', 'Journalism', 'Music',\n",
       "        'Photography', 'Publishing', 'Technology', 'Theater'], dtype=object),\n",
       " array(['AT', 'AU', 'BE', 'CA', 'CH', 'DE', 'DK', 'ES', 'FR', 'GB', 'HK',\n",
       "        'IE', 'IT', 'JP', 'LU', 'MX', 'NL', 'NO', 'NZ', 'SE', 'SG', 'US'],\n",
       "       dtype=object)]"
      ]
     },
     "execution_count": 30,
     "metadata": {},
     "output_type": "execute_result"
    }
   ],
   "source": [
    "encoder.categories_"
   ]
  },
  {
   "cell_type": "code",
   "execution_count": 31,
   "metadata": {},
   "outputs": [
    {
     "data": {
      "text/plain": [
       "35"
      ]
     },
     "execution_count": 31,
     "metadata": {},
     "output_type": "execute_result"
    }
   ],
   "source": [
    "len(encoder.get_feature_names(['main_category', 'country']))"
   ]
  },
  {
   "cell_type": "code",
   "execution_count": 32,
   "metadata": {},
   "outputs": [
    {
     "data": {
      "text/plain": [
       "<248596x35 sparse matrix of type '<class 'numpy.float64'>'\n",
       "\twith 477651 stored elements in Compressed Sparse Row format>"
      ]
     },
     "execution_count": 32,
     "metadata": {},
     "output_type": "execute_result"
    }
   ],
   "source": [
    "encoder.transform(X_train[[\"main_category\", \"country\"]])"
   ]
  },
  {
   "cell_type": "code",
   "execution_count": 33,
   "metadata": {},
   "outputs": [
    {
     "data": {
      "text/plain": [
       "array(['main_category_Comics', 'main_category_Crafts',\n",
       "       'main_category_Dance', 'main_category_Design',\n",
       "       'main_category_Fashion', 'main_category_Film & Video',\n",
       "       'main_category_Food', 'main_category_Games',\n",
       "       'main_category_Journalism', 'main_category_Music',\n",
       "       'main_category_Photography', 'main_category_Publishing',\n",
       "       'main_category_Technology', 'main_category_Theater', 'country_AU',\n",
       "       'country_BE', 'country_CA', 'country_CH', 'country_DE',\n",
       "       'country_DK', 'country_ES', 'country_FR', 'country_GB',\n",
       "       'country_HK', 'country_IE', 'country_IT', 'country_JP',\n",
       "       'country_LU', 'country_MX', 'country_NL', 'country_NO',\n",
       "       'country_NZ', 'country_SE', 'country_SG', 'country_US'],\n",
       "      dtype=object)"
      ]
     },
     "execution_count": 33,
     "metadata": {},
     "output_type": "execute_result"
    }
   ],
   "source": [
    "encoder.get_feature_names([\"main_category\", \"country\"])"
   ]
  },
  {
   "cell_type": "code",
   "execution_count": 34,
   "metadata": {},
   "outputs": [],
   "source": [
    "ohe = pd.DataFrame(encoder.transform(X_train[[\"main_category\", \"country\"]]).toarray(),\n",
    "                  columns=encoder.get_feature_names([\"main_category\", \"country\"]))\n"
   ]
  },
  {
   "cell_type": "code",
   "execution_count": 35,
   "metadata": {},
   "outputs": [],
   "source": [
    "X_train = X_train.reset_index(drop=True)"
   ]
  },
  {
   "cell_type": "code",
   "execution_count": 36,
   "metadata": {},
   "outputs": [
    {
     "data": {
      "text/html": [
       "<div>\n",
       "<style scoped>\n",
       "    .dataframe tbody tr th:only-of-type {\n",
       "        vertical-align: middle;\n",
       "    }\n",
       "\n",
       "    .dataframe tbody tr th {\n",
       "        vertical-align: top;\n",
       "    }\n",
       "\n",
       "    .dataframe thead th {\n",
       "        text-align: right;\n",
       "    }\n",
       "</style>\n",
       "<table border=\"1\" class=\"dataframe\">\n",
       "  <thead>\n",
       "    <tr style=\"text-align: right;\">\n",
       "      <th></th>\n",
       "      <th>ID</th>\n",
       "      <th>name</th>\n",
       "      <th>category</th>\n",
       "      <th>main_category</th>\n",
       "      <th>currency</th>\n",
       "      <th>deadline</th>\n",
       "      <th>goal</th>\n",
       "      <th>launched</th>\n",
       "      <th>pledged</th>\n",
       "      <th>backers</th>\n",
       "      <th>country</th>\n",
       "      <th>usd pledged</th>\n",
       "      <th>usd_pledged_real</th>\n",
       "      <th>usd_goal_real</th>\n",
       "    </tr>\n",
       "  </thead>\n",
       "  <tbody>\n",
       "    <tr>\n",
       "      <th>0</th>\n",
       "      <td>1426698687</td>\n",
       "      <td>RAPPY: The 3D printer with position feedback c...</td>\n",
       "      <td>3D Printing</td>\n",
       "      <td>Technology</td>\n",
       "      <td>USD</td>\n",
       "      <td>2014-02-16</td>\n",
       "      <td>100000.0</td>\n",
       "      <td>2014-01-16 04:48:30</td>\n",
       "      <td>21543.00</td>\n",
       "      <td>49</td>\n",
       "      <td>US</td>\n",
       "      <td>21543.00</td>\n",
       "      <td>21543.00</td>\n",
       "      <td>100000.00</td>\n",
       "    </tr>\n",
       "    <tr>\n",
       "      <th>1</th>\n",
       "      <td>1633937505</td>\n",
       "      <td>Unborn in America - A New Cabaret Opera</td>\n",
       "      <td>Musical</td>\n",
       "      <td>Theater</td>\n",
       "      <td>GBP</td>\n",
       "      <td>2014-12-03</td>\n",
       "      <td>2500.0</td>\n",
       "      <td>2014-11-06 23:41:21</td>\n",
       "      <td>2600.00</td>\n",
       "      <td>74</td>\n",
       "      <td>GB</td>\n",
       "      <td>4162.44</td>\n",
       "      <td>4078.30</td>\n",
       "      <td>3921.45</td>\n",
       "    </tr>\n",
       "    <tr>\n",
       "      <th>2</th>\n",
       "      <td>815178419</td>\n",
       "      <td>The Chronicles of Count Carlos: Son of Dracula</td>\n",
       "      <td>Comic Books</td>\n",
       "      <td>Comics</td>\n",
       "      <td>USD</td>\n",
       "      <td>2016-09-01</td>\n",
       "      <td>12000.0</td>\n",
       "      <td>2016-07-03 19:39:13</td>\n",
       "      <td>12813.01</td>\n",
       "      <td>193</td>\n",
       "      <td>US</td>\n",
       "      <td>629.00</td>\n",
       "      <td>12813.01</td>\n",
       "      <td>12000.00</td>\n",
       "    </tr>\n",
       "    <tr>\n",
       "      <th>3</th>\n",
       "      <td>344407855</td>\n",
       "      <td>Hidden Love Letters</td>\n",
       "      <td>Video Games</td>\n",
       "      <td>Games</td>\n",
       "      <td>EUR</td>\n",
       "      <td>2017-11-10</td>\n",
       "      <td>500.0</td>\n",
       "      <td>2017-10-10 10:03:54</td>\n",
       "      <td>723.00</td>\n",
       "      <td>106</td>\n",
       "      <td>FR</td>\n",
       "      <td>44.60</td>\n",
       "      <td>842.59</td>\n",
       "      <td>582.70</td>\n",
       "    </tr>\n",
       "    <tr>\n",
       "      <th>4</th>\n",
       "      <td>2037941839</td>\n",
       "      <td>Do You Have An Outdoor Grill? Use It To Roast ...</td>\n",
       "      <td>Food</td>\n",
       "      <td>Food</td>\n",
       "      <td>USD</td>\n",
       "      <td>2016-05-10</td>\n",
       "      <td>199000.0</td>\n",
       "      <td>2016-04-10 02:44:49</td>\n",
       "      <td>104.00</td>\n",
       "      <td>6</td>\n",
       "      <td>US</td>\n",
       "      <td>104.00</td>\n",
       "      <td>104.00</td>\n",
       "      <td>199000.00</td>\n",
       "    </tr>\n",
       "  </tbody>\n",
       "</table>\n",
       "</div>"
      ],
      "text/plain": [
       "           ID                                               name     category  \\\n",
       "0  1426698687  RAPPY: The 3D printer with position feedback c...  3D Printing   \n",
       "1  1633937505            Unborn in America - A New Cabaret Opera      Musical   \n",
       "2   815178419     The Chronicles of Count Carlos: Son of Dracula  Comic Books   \n",
       "3   344407855                                Hidden Love Letters  Video Games   \n",
       "4  2037941839  Do You Have An Outdoor Grill? Use It To Roast ...         Food   \n",
       "\n",
       "  main_category currency    deadline      goal             launched   pledged  \\\n",
       "0    Technology      USD  2014-02-16  100000.0  2014-01-16 04:48:30  21543.00   \n",
       "1       Theater      GBP  2014-12-03    2500.0  2014-11-06 23:41:21   2600.00   \n",
       "2        Comics      USD  2016-09-01   12000.0  2016-07-03 19:39:13  12813.01   \n",
       "3         Games      EUR  2017-11-10     500.0  2017-10-10 10:03:54    723.00   \n",
       "4          Food      USD  2016-05-10  199000.0  2016-04-10 02:44:49    104.00   \n",
       "\n",
       "   backers country  usd pledged  usd_pledged_real  usd_goal_real  \n",
       "0       49      US     21543.00          21543.00      100000.00  \n",
       "1       74      GB      4162.44           4078.30        3921.45  \n",
       "2      193      US       629.00          12813.01       12000.00  \n",
       "3      106      FR        44.60            842.59         582.70  \n",
       "4        6      US       104.00            104.00      199000.00  "
      ]
     },
     "execution_count": 36,
     "metadata": {},
     "output_type": "execute_result"
    }
   ],
   "source": [
    "X_train.head()"
   ]
  },
  {
   "cell_type": "code",
   "execution_count": 37,
   "metadata": {},
   "outputs": [
    {
     "data": {
      "text/plain": [
       "(248596, 14)"
      ]
     },
     "execution_count": 37,
     "metadata": {},
     "output_type": "execute_result"
    }
   ],
   "source": [
    "X_train.shape\n"
   ]
  },
  {
   "cell_type": "code",
   "execution_count": 38,
   "metadata": {},
   "outputs": [
    {
     "data": {
      "text/plain": [
       "(248596, 35)"
      ]
     },
     "execution_count": 38,
     "metadata": {},
     "output_type": "execute_result"
    }
   ],
   "source": [
    "ohe.shape\n"
   ]
  },
  {
   "cell_type": "code",
   "execution_count": 39,
   "metadata": {},
   "outputs": [
    {
     "data": {
      "text/plain": [
       "(248596,)"
      ]
     },
     "execution_count": 39,
     "metadata": {},
     "output_type": "execute_result"
    }
   ],
   "source": [
    "y_train.shape"
   ]
  },
  {
   "cell_type": "code",
   "execution_count": 40,
   "metadata": {},
   "outputs": [],
   "source": [
    "X_train['launched_datetime'] = pd.to_datetime(X_train['launched'])\n",
    "X_train['deadline_datetime'] = pd.to_datetime(X_train['deadline'])\n",
    "X_train['project_times'] = pd.to_datetime(X_train['deadline']) - pd.to_datetime(X_train['launched'])\n",
    "'''This extracts the project days from the total project time'''\n",
    "X_train['project_length'] = X_train.project_times.dt.days\n",
    "\n"
   ]
  },
  {
   "cell_type": "code",
   "execution_count": 41,
   "metadata": {},
   "outputs": [],
   "source": [
    "X_train = X_train.drop([\"category\",'goal', \"launched_datetime\",'deadline_datetime',\"main_category\", \"country\", \"name\",\n",
    "                       \"currency\", \"launched\", 'project_times',\"backers\", \"pledged\", \"usd_pledged_real\",\n",
    "                       \"usd pledged\", \"deadline\"], axis=1)\n"
   ]
  },
  {
   "cell_type": "code",
   "execution_count": 42,
   "metadata": {},
   "outputs": [],
   "source": [
    "X_train2 = pd.concat(objs=[X_train, ohe], axis=1)"
   ]
  },
  {
   "cell_type": "code",
   "execution_count": 43,
   "metadata": {},
   "outputs": [
    {
     "data": {
      "text/plain": [
       "((248596, 3), (248596, 38), (248596, 35))"
      ]
     },
     "execution_count": 43,
     "metadata": {},
     "output_type": "execute_result"
    }
   ],
   "source": [
    "X_train.shape, X_train2.shape, ohe.shape"
   ]
  },
  {
   "cell_type": "markdown",
   "metadata": {},
   "source": [
    "## Model 1: Decision Tree Classifier"
   ]
  },
  {
   "cell_type": "code",
   "execution_count": 44,
   "metadata": {},
   "outputs": [
    {
     "data": {
      "text/html": [
       "<div>\n",
       "<style scoped>\n",
       "    .dataframe tbody tr th:only-of-type {\n",
       "        vertical-align: middle;\n",
       "    }\n",
       "\n",
       "    .dataframe tbody tr th {\n",
       "        vertical-align: top;\n",
       "    }\n",
       "\n",
       "    .dataframe thead th {\n",
       "        text-align: right;\n",
       "    }\n",
       "</style>\n",
       "<table border=\"1\" class=\"dataframe\">\n",
       "  <thead>\n",
       "    <tr style=\"text-align: right;\">\n",
       "      <th></th>\n",
       "      <th>ID</th>\n",
       "      <th>usd_goal_real</th>\n",
       "      <th>project_length</th>\n",
       "      <th>main_category_Comics</th>\n",
       "      <th>main_category_Crafts</th>\n",
       "      <th>main_category_Dance</th>\n",
       "      <th>main_category_Design</th>\n",
       "      <th>main_category_Fashion</th>\n",
       "      <th>main_category_Film &amp; Video</th>\n",
       "      <th>main_category_Food</th>\n",
       "      <th>...</th>\n",
       "      <th>country_IT</th>\n",
       "      <th>country_JP</th>\n",
       "      <th>country_LU</th>\n",
       "      <th>country_MX</th>\n",
       "      <th>country_NL</th>\n",
       "      <th>country_NO</th>\n",
       "      <th>country_NZ</th>\n",
       "      <th>country_SE</th>\n",
       "      <th>country_SG</th>\n",
       "      <th>country_US</th>\n",
       "    </tr>\n",
       "  </thead>\n",
       "  <tbody>\n",
       "    <tr>\n",
       "      <th>0</th>\n",
       "      <td>1426698687</td>\n",
       "      <td>100000.00</td>\n",
       "      <td>30</td>\n",
       "      <td>0.0</td>\n",
       "      <td>0.0</td>\n",
       "      <td>0.0</td>\n",
       "      <td>0.0</td>\n",
       "      <td>0.0</td>\n",
       "      <td>0.0</td>\n",
       "      <td>0.0</td>\n",
       "      <td>...</td>\n",
       "      <td>0.0</td>\n",
       "      <td>0.0</td>\n",
       "      <td>0.0</td>\n",
       "      <td>0.0</td>\n",
       "      <td>0.0</td>\n",
       "      <td>0.0</td>\n",
       "      <td>0.0</td>\n",
       "      <td>0.0</td>\n",
       "      <td>0.0</td>\n",
       "      <td>1.0</td>\n",
       "    </tr>\n",
       "    <tr>\n",
       "      <th>1</th>\n",
       "      <td>1633937505</td>\n",
       "      <td>3921.45</td>\n",
       "      <td>26</td>\n",
       "      <td>0.0</td>\n",
       "      <td>0.0</td>\n",
       "      <td>0.0</td>\n",
       "      <td>0.0</td>\n",
       "      <td>0.0</td>\n",
       "      <td>0.0</td>\n",
       "      <td>0.0</td>\n",
       "      <td>...</td>\n",
       "      <td>0.0</td>\n",
       "      <td>0.0</td>\n",
       "      <td>0.0</td>\n",
       "      <td>0.0</td>\n",
       "      <td>0.0</td>\n",
       "      <td>0.0</td>\n",
       "      <td>0.0</td>\n",
       "      <td>0.0</td>\n",
       "      <td>0.0</td>\n",
       "      <td>0.0</td>\n",
       "    </tr>\n",
       "    <tr>\n",
       "      <th>2</th>\n",
       "      <td>815178419</td>\n",
       "      <td>12000.00</td>\n",
       "      <td>59</td>\n",
       "      <td>1.0</td>\n",
       "      <td>0.0</td>\n",
       "      <td>0.0</td>\n",
       "      <td>0.0</td>\n",
       "      <td>0.0</td>\n",
       "      <td>0.0</td>\n",
       "      <td>0.0</td>\n",
       "      <td>...</td>\n",
       "      <td>0.0</td>\n",
       "      <td>0.0</td>\n",
       "      <td>0.0</td>\n",
       "      <td>0.0</td>\n",
       "      <td>0.0</td>\n",
       "      <td>0.0</td>\n",
       "      <td>0.0</td>\n",
       "      <td>0.0</td>\n",
       "      <td>0.0</td>\n",
       "      <td>1.0</td>\n",
       "    </tr>\n",
       "    <tr>\n",
       "      <th>3</th>\n",
       "      <td>344407855</td>\n",
       "      <td>582.70</td>\n",
       "      <td>30</td>\n",
       "      <td>0.0</td>\n",
       "      <td>0.0</td>\n",
       "      <td>0.0</td>\n",
       "      <td>0.0</td>\n",
       "      <td>0.0</td>\n",
       "      <td>0.0</td>\n",
       "      <td>0.0</td>\n",
       "      <td>...</td>\n",
       "      <td>0.0</td>\n",
       "      <td>0.0</td>\n",
       "      <td>0.0</td>\n",
       "      <td>0.0</td>\n",
       "      <td>0.0</td>\n",
       "      <td>0.0</td>\n",
       "      <td>0.0</td>\n",
       "      <td>0.0</td>\n",
       "      <td>0.0</td>\n",
       "      <td>0.0</td>\n",
       "    </tr>\n",
       "    <tr>\n",
       "      <th>4</th>\n",
       "      <td>2037941839</td>\n",
       "      <td>199000.00</td>\n",
       "      <td>29</td>\n",
       "      <td>0.0</td>\n",
       "      <td>0.0</td>\n",
       "      <td>0.0</td>\n",
       "      <td>0.0</td>\n",
       "      <td>0.0</td>\n",
       "      <td>0.0</td>\n",
       "      <td>1.0</td>\n",
       "      <td>...</td>\n",
       "      <td>0.0</td>\n",
       "      <td>0.0</td>\n",
       "      <td>0.0</td>\n",
       "      <td>0.0</td>\n",
       "      <td>0.0</td>\n",
       "      <td>0.0</td>\n",
       "      <td>0.0</td>\n",
       "      <td>0.0</td>\n",
       "      <td>0.0</td>\n",
       "      <td>1.0</td>\n",
       "    </tr>\n",
       "  </tbody>\n",
       "</table>\n",
       "<p>5 rows × 38 columns</p>\n",
       "</div>"
      ],
      "text/plain": [
       "           ID  usd_goal_real  project_length  main_category_Comics  \\\n",
       "0  1426698687      100000.00              30                   0.0   \n",
       "1  1633937505        3921.45              26                   0.0   \n",
       "2   815178419       12000.00              59                   1.0   \n",
       "3   344407855         582.70              30                   0.0   \n",
       "4  2037941839      199000.00              29                   0.0   \n",
       "\n",
       "   main_category_Crafts  main_category_Dance  main_category_Design  \\\n",
       "0                   0.0                  0.0                   0.0   \n",
       "1                   0.0                  0.0                   0.0   \n",
       "2                   0.0                  0.0                   0.0   \n",
       "3                   0.0                  0.0                   0.0   \n",
       "4                   0.0                  0.0                   0.0   \n",
       "\n",
       "   main_category_Fashion  main_category_Film & Video  main_category_Food  \\\n",
       "0                    0.0                         0.0                 0.0   \n",
       "1                    0.0                         0.0                 0.0   \n",
       "2                    0.0                         0.0                 0.0   \n",
       "3                    0.0                         0.0                 0.0   \n",
       "4                    0.0                         0.0                 1.0   \n",
       "\n",
       "      ...      country_IT  country_JP  country_LU  country_MX  country_NL  \\\n",
       "0     ...             0.0         0.0         0.0         0.0         0.0   \n",
       "1     ...             0.0         0.0         0.0         0.0         0.0   \n",
       "2     ...             0.0         0.0         0.0         0.0         0.0   \n",
       "3     ...             0.0         0.0         0.0         0.0         0.0   \n",
       "4     ...             0.0         0.0         0.0         0.0         0.0   \n",
       "\n",
       "   country_NO  country_NZ  country_SE  country_SG  country_US  \n",
       "0         0.0         0.0         0.0         0.0         1.0  \n",
       "1         0.0         0.0         0.0         0.0         0.0  \n",
       "2         0.0         0.0         0.0         0.0         1.0  \n",
       "3         0.0         0.0         0.0         0.0         0.0  \n",
       "4         0.0         0.0         0.0         0.0         1.0  \n",
       "\n",
       "[5 rows x 38 columns]"
      ]
     },
     "execution_count": 44,
     "metadata": {},
     "output_type": "execute_result"
    }
   ],
   "source": [
    "X_train2.head()"
   ]
  },
  {
   "cell_type": "code",
   "execution_count": 45,
   "metadata": {},
   "outputs": [
    {
     "data": {
      "text/plain": [
       "(248596, 38)"
      ]
     },
     "execution_count": 45,
     "metadata": {},
     "output_type": "execute_result"
    }
   ],
   "source": [
    "X_train2.shape"
   ]
  },
  {
   "cell_type": "code",
   "execution_count": 46,
   "metadata": {},
   "outputs": [
    {
     "data": {
      "text/plain": [
       "DecisionTreeClassifier(class_weight=None, criterion='gini', max_depth=None,\n",
       "                       max_features=None, max_leaf_nodes=None,\n",
       "                       min_impurity_decrease=0.0, min_impurity_split=None,\n",
       "                       min_samples_leaf=30, min_samples_split=2,\n",
       "                       min_weight_fraction_leaf=0.0, presort=False,\n",
       "                       random_state=2019, splitter='best')"
      ]
     },
     "execution_count": 46,
     "metadata": {},
     "output_type": "execute_result"
    }
   ],
   "source": [
    "clf = DecisionTreeClassifier(random_state=2019,\n",
    "                             min_samples_leaf=30,\n",
    "                             criterion=\"gini\",\n",
    "                             min_samples_split=2)\n",
    "\n",
    "clf.fit(X_train2, y_train)"
   ]
  },
  {
   "cell_type": "code",
   "execution_count": 47,
   "metadata": {
    "scrolled": true
   },
   "outputs": [],
   "source": [
    "# # Create DOT data\n",
    "# dot_data = tree.export_graphviz(clf, \n",
    "#                                 out_file=None, \n",
    "#                                 feature_names=X_train.columns,  \n",
    "#                                 class_names=[\"failed\", \"successful\"])\n",
    "\n",
    "# # Draw graph\n",
    "# graph = pydotplus.graph_from_dot_data(dot_data)  \n",
    "\n",
    "# # Show graph\n",
    "# Image(graph.create_png())"
   ]
  },
  {
   "cell_type": "markdown",
   "metadata": {},
   "source": [
    "## How well did our model do? "
   ]
  },
  {
   "cell_type": "code",
   "execution_count": 48,
   "metadata": {},
   "outputs": [
    {
     "data": {
      "text/plain": [
       "OneHotEncoder(categorical_features=None, categories='auto', drop='first',\n",
       "              dtype=<class 'numpy.float64'>, handle_unknown='error',\n",
       "              n_values=None, sparse=True)"
      ]
     },
     "execution_count": 48,
     "metadata": {},
     "output_type": "execute_result"
    }
   ],
   "source": [
    "encoder = OneHotEncoder(drop='first', categories=\"auto\")\n",
    "encoder.fit(X_test[[\"main_category\", \"country\"]])"
   ]
  },
  {
   "cell_type": "code",
   "execution_count": 49,
   "metadata": {},
   "outputs": [
    {
     "data": {
      "text/html": [
       "<div>\n",
       "<style scoped>\n",
       "    .dataframe tbody tr th:only-of-type {\n",
       "        vertical-align: middle;\n",
       "    }\n",
       "\n",
       "    .dataframe tbody tr th {\n",
       "        vertical-align: top;\n",
       "    }\n",
       "\n",
       "    .dataframe thead th {\n",
       "        text-align: right;\n",
       "    }\n",
       "</style>\n",
       "<table border=\"1\" class=\"dataframe\">\n",
       "  <thead>\n",
       "    <tr style=\"text-align: right;\">\n",
       "      <th></th>\n",
       "      <th>main_category_Comics</th>\n",
       "      <th>main_category_Crafts</th>\n",
       "      <th>main_category_Dance</th>\n",
       "      <th>main_category_Design</th>\n",
       "      <th>main_category_Fashion</th>\n",
       "      <th>main_category_Film &amp; Video</th>\n",
       "      <th>main_category_Food</th>\n",
       "      <th>main_category_Games</th>\n",
       "      <th>main_category_Journalism</th>\n",
       "      <th>main_category_Music</th>\n",
       "      <th>...</th>\n",
       "      <th>country_IT</th>\n",
       "      <th>country_JP</th>\n",
       "      <th>country_LU</th>\n",
       "      <th>country_MX</th>\n",
       "      <th>country_NL</th>\n",
       "      <th>country_NO</th>\n",
       "      <th>country_NZ</th>\n",
       "      <th>country_SE</th>\n",
       "      <th>country_SG</th>\n",
       "      <th>country_US</th>\n",
       "    </tr>\n",
       "  </thead>\n",
       "  <tbody>\n",
       "    <tr>\n",
       "      <th>0</th>\n",
       "      <td>0.0</td>\n",
       "      <td>0.0</td>\n",
       "      <td>0.0</td>\n",
       "      <td>0.0</td>\n",
       "      <td>0.0</td>\n",
       "      <td>0.0</td>\n",
       "      <td>0.0</td>\n",
       "      <td>0.0</td>\n",
       "      <td>0.0</td>\n",
       "      <td>0.0</td>\n",
       "      <td>...</td>\n",
       "      <td>0.0</td>\n",
       "      <td>0.0</td>\n",
       "      <td>0.0</td>\n",
       "      <td>0.0</td>\n",
       "      <td>0.0</td>\n",
       "      <td>0.0</td>\n",
       "      <td>0.0</td>\n",
       "      <td>0.0</td>\n",
       "      <td>0.0</td>\n",
       "      <td>1.0</td>\n",
       "    </tr>\n",
       "    <tr>\n",
       "      <th>1</th>\n",
       "      <td>0.0</td>\n",
       "      <td>0.0</td>\n",
       "      <td>0.0</td>\n",
       "      <td>0.0</td>\n",
       "      <td>0.0</td>\n",
       "      <td>0.0</td>\n",
       "      <td>0.0</td>\n",
       "      <td>1.0</td>\n",
       "      <td>0.0</td>\n",
       "      <td>0.0</td>\n",
       "      <td>...</td>\n",
       "      <td>0.0</td>\n",
       "      <td>0.0</td>\n",
       "      <td>0.0</td>\n",
       "      <td>0.0</td>\n",
       "      <td>0.0</td>\n",
       "      <td>0.0</td>\n",
       "      <td>0.0</td>\n",
       "      <td>0.0</td>\n",
       "      <td>0.0</td>\n",
       "      <td>1.0</td>\n",
       "    </tr>\n",
       "    <tr>\n",
       "      <th>2</th>\n",
       "      <td>0.0</td>\n",
       "      <td>0.0</td>\n",
       "      <td>0.0</td>\n",
       "      <td>0.0</td>\n",
       "      <td>0.0</td>\n",
       "      <td>0.0</td>\n",
       "      <td>0.0</td>\n",
       "      <td>0.0</td>\n",
       "      <td>0.0</td>\n",
       "      <td>0.0</td>\n",
       "      <td>...</td>\n",
       "      <td>0.0</td>\n",
       "      <td>0.0</td>\n",
       "      <td>0.0</td>\n",
       "      <td>0.0</td>\n",
       "      <td>0.0</td>\n",
       "      <td>0.0</td>\n",
       "      <td>0.0</td>\n",
       "      <td>0.0</td>\n",
       "      <td>0.0</td>\n",
       "      <td>1.0</td>\n",
       "    </tr>\n",
       "    <tr>\n",
       "      <th>3</th>\n",
       "      <td>0.0</td>\n",
       "      <td>0.0</td>\n",
       "      <td>0.0</td>\n",
       "      <td>0.0</td>\n",
       "      <td>0.0</td>\n",
       "      <td>0.0</td>\n",
       "      <td>0.0</td>\n",
       "      <td>0.0</td>\n",
       "      <td>0.0</td>\n",
       "      <td>0.0</td>\n",
       "      <td>...</td>\n",
       "      <td>0.0</td>\n",
       "      <td>0.0</td>\n",
       "      <td>0.0</td>\n",
       "      <td>0.0</td>\n",
       "      <td>0.0</td>\n",
       "      <td>0.0</td>\n",
       "      <td>0.0</td>\n",
       "      <td>0.0</td>\n",
       "      <td>0.0</td>\n",
       "      <td>1.0</td>\n",
       "    </tr>\n",
       "    <tr>\n",
       "      <th>4</th>\n",
       "      <td>0.0</td>\n",
       "      <td>0.0</td>\n",
       "      <td>0.0</td>\n",
       "      <td>0.0</td>\n",
       "      <td>0.0</td>\n",
       "      <td>1.0</td>\n",
       "      <td>0.0</td>\n",
       "      <td>0.0</td>\n",
       "      <td>0.0</td>\n",
       "      <td>0.0</td>\n",
       "      <td>...</td>\n",
       "      <td>0.0</td>\n",
       "      <td>0.0</td>\n",
       "      <td>0.0</td>\n",
       "      <td>0.0</td>\n",
       "      <td>0.0</td>\n",
       "      <td>0.0</td>\n",
       "      <td>0.0</td>\n",
       "      <td>0.0</td>\n",
       "      <td>0.0</td>\n",
       "      <td>1.0</td>\n",
       "    </tr>\n",
       "  </tbody>\n",
       "</table>\n",
       "<p>5 rows × 35 columns</p>\n",
       "</div>"
      ],
      "text/plain": [
       "   main_category_Comics  main_category_Crafts  main_category_Dance  \\\n",
       "0                   0.0                   0.0                  0.0   \n",
       "1                   0.0                   0.0                  0.0   \n",
       "2                   0.0                   0.0                  0.0   \n",
       "3                   0.0                   0.0                  0.0   \n",
       "4                   0.0                   0.0                  0.0   \n",
       "\n",
       "   main_category_Design  main_category_Fashion  main_category_Film & Video  \\\n",
       "0                   0.0                    0.0                         0.0   \n",
       "1                   0.0                    0.0                         0.0   \n",
       "2                   0.0                    0.0                         0.0   \n",
       "3                   0.0                    0.0                         0.0   \n",
       "4                   0.0                    0.0                         1.0   \n",
       "\n",
       "   main_category_Food  main_category_Games  main_category_Journalism  \\\n",
       "0                 0.0                  0.0                       0.0   \n",
       "1                 0.0                  1.0                       0.0   \n",
       "2                 0.0                  0.0                       0.0   \n",
       "3                 0.0                  0.0                       0.0   \n",
       "4                 0.0                  0.0                       0.0   \n",
       "\n",
       "   main_category_Music     ...      country_IT  country_JP  country_LU  \\\n",
       "0                  0.0     ...             0.0         0.0         0.0   \n",
       "1                  0.0     ...             0.0         0.0         0.0   \n",
       "2                  0.0     ...             0.0         0.0         0.0   \n",
       "3                  0.0     ...             0.0         0.0         0.0   \n",
       "4                  0.0     ...             0.0         0.0         0.0   \n",
       "\n",
       "   country_MX  country_NL  country_NO  country_NZ  country_SE  country_SG  \\\n",
       "0         0.0         0.0         0.0         0.0         0.0         0.0   \n",
       "1         0.0         0.0         0.0         0.0         0.0         0.0   \n",
       "2         0.0         0.0         0.0         0.0         0.0         0.0   \n",
       "3         0.0         0.0         0.0         0.0         0.0         0.0   \n",
       "4         0.0         0.0         0.0         0.0         0.0         0.0   \n",
       "\n",
       "   country_US  \n",
       "0         1.0  \n",
       "1         1.0  \n",
       "2         1.0  \n",
       "3         1.0  \n",
       "4         1.0  \n",
       "\n",
       "[5 rows x 35 columns]"
      ]
     },
     "execution_count": 49,
     "metadata": {},
     "output_type": "execute_result"
    }
   ],
   "source": [
    "ohe = pd.DataFrame(encoder.transform(X_test[[\"main_category\", \"country\"]]).toarray(),\n",
    "                   columns=encoder.get_feature_names([\"main_category\", \"country\"]))\n",
    "ohe.head()"
   ]
  },
  {
   "cell_type": "code",
   "execution_count": 50,
   "metadata": {},
   "outputs": [],
   "source": [
    "X_test = X_test.reset_index(drop=True)"
   ]
  },
  {
   "cell_type": "code",
   "execution_count": 51,
   "metadata": {},
   "outputs": [],
   "source": [
    "X_test['launched_datetime'] = pd.to_datetime(X_test['launched'])\n",
    "X_test['deadline_datetime'] = pd.to_datetime(X_test['deadline'])\n",
    "X_test['project_times'] = pd.to_datetime(X_test['deadline']) - pd.to_datetime(X_test['launched'])\n",
    "'''This extracts the project days from the total project time'''\n",
    "X_test['project_length'] = X_test.project_times.dt.days"
   ]
  },
  {
   "cell_type": "code",
   "execution_count": 52,
   "metadata": {},
   "outputs": [],
   "source": [
    "X_test = X_test.drop([\"category\", 'goal',\"launched_datetime\",'deadline_datetime',\"main_category\", \"country\", \"name\",\n",
    "                       \"currency\", \"launched\", 'project_times',\"backers\", \"pledged\", \"usd_pledged_real\",\n",
    "                       \"usd pledged\", \"deadline\"], axis=1)"
   ]
  },
  {
   "cell_type": "code",
   "execution_count": 53,
   "metadata": {},
   "outputs": [],
   "source": [
    "X_test2 = pd.concat(objs=[X_test, ohe], axis=1)"
   ]
  },
  {
   "cell_type": "code",
   "execution_count": 54,
   "metadata": {},
   "outputs": [
    {
     "data": {
      "text/plain": [
       "DecisionTreeClassifier(class_weight=None, criterion='gini', max_depth=None,\n",
       "                       max_features=None, max_leaf_nodes=None,\n",
       "                       min_impurity_decrease=0.0, min_impurity_split=None,\n",
       "                       min_samples_leaf=30, min_samples_split=2,\n",
       "                       min_weight_fraction_leaf=0.0, presort=False,\n",
       "                       random_state=2019, splitter='best')"
      ]
     },
     "execution_count": 54,
     "metadata": {},
     "output_type": "execute_result"
    }
   ],
   "source": [
    "clf = DecisionTreeClassifier(random_state=2019,\n",
    "                             min_samples_leaf=30,\n",
    "                             criterion=\"gini\",\n",
    "                             min_samples_split=2)\n",
    "\n",
    "clf.fit(X_test2, y_test)"
   ]
  },
  {
   "cell_type": "code",
   "execution_count": 55,
   "metadata": {},
   "outputs": [],
   "source": [
    "# # Create DOT data\n",
    "# dot_data = tree.export_graphviz(clf, \n",
    "#                                 out_file=None, \n",
    "#                                 feature_names=X_train.columns,  \n",
    "#                                 class_names=[\"failed\", \"successful\"])\n",
    "\n",
    "# # Draw graph\n",
    "# graph = pydotplus.graph_from_dot_data(dot_data)  \n",
    "\n",
    "# # Show graph\n",
    "# Image(graph.create_png())"
   ]
  },
  {
   "cell_type": "code",
   "execution_count": 56,
   "metadata": {},
   "outputs": [],
   "source": [
    "y_pred = clf.predict(X_test2)"
   ]
  },
  {
   "cell_type": "code",
   "execution_count": 57,
   "metadata": {},
   "outputs": [],
   "source": [
    "y_pred = pd.Series(y_pred)"
   ]
  },
  {
   "cell_type": "code",
   "execution_count": 58,
   "metadata": {},
   "outputs": [],
   "source": [
    "y_train = y_train.replace('successful', 1)\n",
    "y_train = y_train.replace('failed', 0)\n",
    "\n",
    "y_test = y_test.replace('successful', 1)\n",
    "y_test = y_test.replace('failed', 0)\n",
    "\n",
    "y_pred = y_pred.replace('successful', 1)\n",
    "y_pred = y_pred.replace('failed', 0)"
   ]
  },
  {
   "cell_type": "code",
   "execution_count": 59,
   "metadata": {},
   "outputs": [
    {
     "name": "stdout",
     "output_type": "stream",
     "text": [
      "Accuracy is :69.92735259334347\n",
      "\n",
      "AUC is :0.67\n",
      "\n",
      "Confusion Matrix\n",
      "----------------\n"
     ]
    },
    {
     "data": {
      "text/html": [
       "<div>\n",
       "<style scoped>\n",
       "    .dataframe tbody tr th:only-of-type {\n",
       "        vertical-align: middle;\n",
       "    }\n",
       "\n",
       "    .dataframe tbody tr th {\n",
       "        vertical-align: top;\n",
       "    }\n",
       "\n",
       "    .dataframe thead th {\n",
       "        text-align: right;\n",
       "    }\n",
       "</style>\n",
       "<table border=\"1\" class=\"dataframe\">\n",
       "  <thead>\n",
       "    <tr style=\"text-align: right;\">\n",
       "      <th>Predicted</th>\n",
       "      <th>0</th>\n",
       "      <th>1</th>\n",
       "      <th>All</th>\n",
       "    </tr>\n",
       "    <tr>\n",
       "      <th>True</th>\n",
       "      <th></th>\n",
       "      <th></th>\n",
       "      <th></th>\n",
       "    </tr>\n",
       "  </thead>\n",
       "  <tbody>\n",
       "    <tr>\n",
       "      <th>0</th>\n",
       "      <td>7287</td>\n",
       "      <td>3437</td>\n",
       "      <td>10724</td>\n",
       "    </tr>\n",
       "    <tr>\n",
       "      <th>1</th>\n",
       "      <td>5036</td>\n",
       "      <td>2408</td>\n",
       "      <td>7444</td>\n",
       "    </tr>\n",
       "    <tr>\n",
       "      <th>All</th>\n",
       "      <td>12323</td>\n",
       "      <td>5845</td>\n",
       "      <td>18168</td>\n",
       "    </tr>\n",
       "  </tbody>\n",
       "</table>\n",
       "</div>"
      ],
      "text/plain": [
       "Predicted      0     1    All\n",
       "True                         \n",
       "0           7287  3437  10724\n",
       "1           5036  2408   7444\n",
       "All        12323  5845  18168"
      ]
     },
     "execution_count": 59,
     "metadata": {},
     "output_type": "execute_result"
    }
   ],
   "source": [
    "from sklearn.metrics import accuracy_score, roc_curve, auc\n",
    "\n",
    "# Calculate Accuracy \n",
    "acc = accuracy_score(y_test,y_pred) * 100\n",
    "print(\"Accuracy is :{0}\".format(acc))\n",
    "\n",
    "# Check the AUC for predictions\n",
    "false_positive_rate, true_positive_rate, thresholds = roc_curve(y_test, y_pred)\n",
    "roc_auc = auc(false_positive_rate, true_positive_rate)\n",
    "print(\"\\nAUC is :{0}\".format(round(roc_auc,2)))\n",
    "\n",
    "# Create and print a confusion matrix \n",
    "print('\\nConfusion Matrix')\n",
    "print('----------------')\n",
    "pd.crosstab(y_test, y_pred, rownames=['True'], colnames=['Predicted'], margins=True)"
   ]
  },
  {
   "cell_type": "markdown",
   "metadata": {},
   "source": [
    "## Optimizing Model 1\n",
    "\n",
    "Now we will prune our decision tree\n",
    "\n",
    "We can prune our trees using the following parameters:\n",
    "\n",
    "Maximum Depth\n",
    "Reduce the depth of the tree to build a generalized tree. \n",
    "\n",
    "Minimum Samples Leaf with Split\n",
    "Restrict the size of sample leaf\n",
    "\n",
    "Minimum Leaf Sample Size\n",
    "Size in terminal nodes can be fixed to 30, 100, 300 or 5% of total\n",
    "\n",
    "Maximum Leaf Nodes\n",
    "Reduce the number of leaf nodes\n",
    "\n",
    "Maximum Features\n",
    "Maximum number of features to consider when splitting a node"
   ]
  },
  {
   "cell_type": "code",
   "execution_count": 60,
   "metadata": {},
   "outputs": [],
   "source": [
    "from sklearn.metrics import roc_curve, log_loss\n",
    "from sklearn.metrics import auc\n",
    "import matplotlib.pyplot as plt\n",
    "import matplotlib\n",
    "%matplotlib inline\n"
   ]
  },
  {
   "cell_type": "markdown",
   "metadata": {},
   "source": [
    "## Model 2: Ensemble Methods"
   ]
  },
  {
   "cell_type": "markdown",
   "metadata": {},
   "source": [
    "Build a regular decision tree"
   ]
  },
  {
   "cell_type": "code",
   "execution_count": 61,
   "metadata": {},
   "outputs": [
    {
     "data": {
      "text/plain": [
       "DecisionTreeClassifier(class_weight=None, criterion='gini', max_depth=5,\n",
       "                       max_features=None, max_leaf_nodes=None,\n",
       "                       min_impurity_decrease=0.0, min_impurity_split=None,\n",
       "                       min_samples_leaf=1, min_samples_split=2,\n",
       "                       min_weight_fraction_leaf=0.0, presort=False,\n",
       "                       random_state=None, splitter='best')"
      ]
     },
     "execution_count": 61,
     "metadata": {},
     "output_type": "execute_result"
    }
   ],
   "source": [
    "tree_clf = DecisionTreeClassifier(criterion = \"gini\", max_depth = 5) \n",
    "tree_clf.fit(X_train2, y_train)"
   ]
  },
  {
   "cell_type": "code",
   "execution_count": 62,
   "metadata": {},
   "outputs": [
    {
     "name": "stdout",
     "output_type": "stream",
     "text": [
      "0:00:00.788979\n"
     ]
    }
   ],
   "source": [
    "from datetime import datetime\n",
    "startTime = datetime.now()\n",
    "\n",
    "#do something\n",
    "tree_clf = DecisionTreeClassifier(criterion = \"gini\", max_depth = 5) \n",
    "tree_clf.fit(X_train2, y_train)\n",
    "print(datetime.now() - startTime)\n"
   ]
  },
  {
   "cell_type": "code",
   "execution_count": 63,
   "metadata": {},
   "outputs": [
    {
     "name": "stdout",
     "output_type": "stream",
     "text": [
      "[[40220  9198]\n",
      " [15722 17726]]\n",
      "              precision    recall  f1-score   support\n",
      "\n",
      "           0       0.72      0.81      0.76     49418\n",
      "           1       0.66      0.53      0.59     33448\n",
      "\n",
      "    accuracy                           0.70     82866\n",
      "   macro avg       0.69      0.67      0.68     82866\n",
      "weighted avg       0.69      0.70      0.69     82866\n",
      "\n"
     ]
    }
   ],
   "source": [
    "from sklearn.metrics import confusion_matrix, classification_report\n",
    "pred = tree_clf.predict(X_test2)\n",
    "print(confusion_matrix(y_test, y_pred))\n",
    "print(classification_report(y_test, y_pred))"
   ]
  },
  {
   "cell_type": "code",
   "execution_count": 64,
   "metadata": {},
   "outputs": [
    {
     "name": "stdout",
     "output_type": "stream",
     "text": [
      "Testing Accuracy for Decision Tree Classifier: 69.93%\n"
     ]
    }
   ],
   "source": [
    "print(\"Testing Accuracy for Decision Tree Classifier: {:.4}%\".format(accuracy_score(y_test, y_pred) * 100))\n"
   ]
  },
  {
   "cell_type": "markdown",
   "metadata": {},
   "source": [
    "Build a bagged tree"
   ]
  },
  {
   "cell_type": "code",
   "execution_count": 65,
   "metadata": {},
   "outputs": [],
   "source": [
    "from sklearn.ensemble import BaggingClassifier"
   ]
  },
  {
   "cell_type": "code",
   "execution_count": 66,
   "metadata": {},
   "outputs": [
    {
     "name": "stdout",
     "output_type": "stream",
     "text": [
      "0:00:17.213700\n"
     ]
    }
   ],
   "source": [
    "from datetime import datetime\n",
    "startTime = datetime.now()\n",
    "\n",
    "#do something\n",
    "bagged_tree =  BaggingClassifier(DecisionTreeClassifier(criterion='gini', max_depth=7), n_estimators=20)\n",
    "bagged_tree.fit(X_train2, y_train)\n",
    "print(datetime.now() - startTime)"
   ]
  },
  {
   "cell_type": "code",
   "execution_count": 67,
   "metadata": {},
   "outputs": [
    {
     "data": {
      "text/plain": [
       "BaggingClassifier(base_estimator=DecisionTreeClassifier(class_weight=None,\n",
       "                                                        criterion='gini',\n",
       "                                                        max_depth=7,\n",
       "                                                        max_features=None,\n",
       "                                                        max_leaf_nodes=None,\n",
       "                                                        min_impurity_decrease=0.0,\n",
       "                                                        min_impurity_split=None,\n",
       "                                                        min_samples_leaf=1,\n",
       "                                                        min_samples_split=2,\n",
       "                                                        min_weight_fraction_leaf=0.0,\n",
       "                                                        presort=False,\n",
       "                                                        random_state=None,\n",
       "                                                        splitter='best'),\n",
       "                  bootstrap=True, bootstrap_features=False, max_features=1.0,\n",
       "                  max_samples=1.0, n_estimators=20, n_jobs=None,\n",
       "                  oob_score=False, random_state=None, verbose=0,\n",
       "                  warm_start=False)"
      ]
     },
     "execution_count": 67,
     "metadata": {},
     "output_type": "execute_result"
    }
   ],
   "source": [
    "bagged_tree =  BaggingClassifier(DecisionTreeClassifier(criterion='gini', max_depth=7), n_estimators=20)\n",
    "bagged_tree.fit(X_train2, y_train)"
   ]
  },
  {
   "cell_type": "code",
   "execution_count": 68,
   "metadata": {},
   "outputs": [
    {
     "name": "stdout",
     "output_type": "stream",
     "text": [
      "0.6465711435421326\n",
      "0.6466946636738832\n"
     ]
    }
   ],
   "source": [
    "print(bagged_tree.score(X_train2, y_train))\n",
    "print(bagged_tree.score(X_test2, y_test))"
   ]
  },
  {
   "cell_type": "markdown",
   "metadata": {},
   "source": [
    "Build a random forest"
   ]
  },
  {
   "cell_type": "code",
   "execution_count": 69,
   "metadata": {},
   "outputs": [],
   "source": [
    "from sklearn.ensemble import RandomForestClassifier\n"
   ]
  },
  {
   "cell_type": "code",
   "execution_count": null,
   "metadata": {},
   "outputs": [],
   "source": []
  },
  {
   "cell_type": "code",
   "execution_count": 70,
   "metadata": {},
   "outputs": [
    {
     "name": "stdout",
     "output_type": "stream",
     "text": [
      "Time to run algorithm is: {datetime.now() - startTime}\n"
     ]
    }
   ],
   "source": [
    "from datetime import datetime\n",
    "startTime = datetime.now()\n",
    "\n",
    "#do something\n",
    "forest = RandomForestClassifier(n_estimators=100, max_depth= 5)\n",
    "forest.fit(X_train2, y_train)\n",
    "print('Time to run algorithm is: {datetime.now() - startTime}')"
   ]
  },
  {
   "cell_type": "code",
   "execution_count": 71,
   "metadata": {},
   "outputs": [
    {
     "data": {
      "text/plain": [
       "RandomForestClassifier(bootstrap=True, class_weight=None, criterion='gini',\n",
       "                       max_depth=5, max_features='auto', max_leaf_nodes=None,\n",
       "                       min_impurity_decrease=0.0, min_impurity_split=None,\n",
       "                       min_samples_leaf=1, min_samples_split=2,\n",
       "                       min_weight_fraction_leaf=0.0, n_estimators=100,\n",
       "                       n_jobs=None, oob_score=False, random_state=None,\n",
       "                       verbose=0, warm_start=False)"
      ]
     },
     "execution_count": 71,
     "metadata": {},
     "output_type": "execute_result"
    }
   ],
   "source": [
    "forest = RandomForestClassifier(n_estimators=100, max_depth= 5)\n",
    "forest.fit(X_train2, y_train)"
   ]
  },
  {
   "cell_type": "code",
   "execution_count": 72,
   "metadata": {},
   "outputs": [
    {
     "data": {
      "text/plain": [
       "0.6310549561943378"
      ]
     },
     "execution_count": 72,
     "metadata": {},
     "output_type": "execute_result"
    }
   ],
   "source": [
    "forest.score(X_test2, y_test)\n"
   ]
  },
  {
   "cell_type": "code",
   "execution_count": 73,
   "metadata": {},
   "outputs": [
    {
     "data": {
      "text/plain": [
       "RandomForestClassifier(bootstrap=True, class_weight=None, criterion='gini',\n",
       "                       max_depth=5, max_features='auto', max_leaf_nodes=None,\n",
       "                       min_impurity_decrease=0.0, min_impurity_split=None,\n",
       "                       min_samples_leaf=1, min_samples_split=2,\n",
       "                       min_weight_fraction_leaf=0.0, n_estimators=100,\n",
       "                       n_jobs=None, oob_score=False, random_state=None,\n",
       "                       verbose=0, warm_start=False)"
      ]
     },
     "execution_count": 73,
     "metadata": {},
     "output_type": "execute_result"
    }
   ],
   "source": [
    "from sklearn.metrics import roc_curve, auc\n",
    "\n",
    "#First calculate the probability scores of each of the datapoints:\n",
    "forest.fit(X_train2, y_train)"
   ]
  },
  {
   "cell_type": "code",
   "execution_count": 74,
   "metadata": {},
   "outputs": [],
   "source": [
    "y_score = forest.predict_proba(X_test2)[:, 1]"
   ]
  },
  {
   "cell_type": "code",
   "execution_count": 75,
   "metadata": {},
   "outputs": [],
   "source": [
    "fpr, tpr, thresholds = roc_curve(y_test, y_score)"
   ]
  },
  {
   "cell_type": "code",
   "execution_count": 76,
   "metadata": {},
   "outputs": [
    {
     "name": "stdout",
     "output_type": "stream",
     "text": [
      "AUC: 0.6835484947322108\n"
     ]
    },
    {
     "data": {
      "image/png": "[encoded data removed]",
      "text/plain": [
       "<Figure size 720x576 with 1 Axes>"
      ]
     },
     "metadata": {},
     "output_type": "display_data"
    }
   ],
   "source": [
    "import matplotlib.pyplot as plt\n",
    "import seaborn as sns\n",
    "%matplotlib inline\n",
    "\n",
    "#Seaborns Beautiful Styling\n",
    "sns.set_style(\"darkgrid\", {\"axes.facecolor\": \".9\"})\n",
    "\n",
    "print('AUC: {}'.format(auc(fpr, tpr)))\n",
    "plt.figure(figsize=(10,8))\n",
    "lw = 2\n",
    "plt.plot(fpr, tpr, color='darkorange',\n",
    "         lw=lw, label='ROC curve')\n",
    "plt.plot([0, 1], [0, 1], color='navy', lw=lw, linestyle='--')\n",
    "plt.xlim([0.0, 1.0])\n",
    "plt.ylim([0.0, 1.05])\n",
    "plt.yticks([i/20.0 for i in range(21)])\n",
    "plt.xticks([i/20.0 for i in range(21)])\n",
    "plt.xlabel('False Positive Rate')\n",
    "plt.ylabel('True Positive Rate')\n",
    "plt.title('Receiver operating characteristic (ROC) Curve')\n",
    "plt.legend(loc=\"lower right\")\n",
    "plt.show()"
   ]
  },
  {
   "cell_type": "code",
   "execution_count": 77,
   "metadata": {},
   "outputs": [
    {
     "data": {
      "text/plain": [
       "0.6372669587873401"
      ]
     },
     "execution_count": 77,
     "metadata": {},
     "output_type": "execute_result"
    }
   ],
   "source": [
    "log_loss_randf = log_loss(y_test, y_score)\n",
    "log_loss_randf "
   ]
  },
  {
   "cell_type": "code",
   "execution_count": 78,
   "metadata": {},
   "outputs": [],
   "source": [
    "from sklearn.model_selection import train_test_split, cross_val_score"
   ]
  },
  {
   "cell_type": "code",
   "execution_count": 79,
   "metadata": {},
   "outputs": [
    {
     "data": {
      "text/plain": [
       "array([0.62884151, 0.63431215, 0.63346742, 0.63868217, 0.63421698])"
      ]
     },
     "execution_count": 79,
     "metadata": {},
     "output_type": "execute_result"
    }
   ],
   "source": [
    "cv_scores = cross_val_score(forest, X_train2, y_train, cv=5)\n",
    "cv_scores"
   ]
  },
  {
   "cell_type": "markdown",
   "metadata": {},
   "source": [
    "## Model 3: Log Regression\n"
   ]
  },
  {
   "cell_type": "code",
   "execution_count": 80,
   "metadata": {},
   "outputs": [],
   "source": [
    "from sklearn.linear_model import LogisticRegression"
   ]
  },
  {
   "cell_type": "code",
   "execution_count": 81,
   "metadata": {},
   "outputs": [],
   "source": [
    "logr = LogisticRegression()"
   ]
  },
  {
   "cell_type": "code",
   "execution_count": 82,
   "metadata": {},
   "outputs": [
    {
     "name": "stderr",
     "output_type": "stream",
     "text": [
      "/Users/krex/anaconda3/envs/learn-env/lib/python3.6/site-packages/sklearn/linear_model/logistic.py:432: FutureWarning: Default solver will be changed to 'lbfgs' in 0.22. Specify a solver to silence this warning.\n",
      "  FutureWarning)\n"
     ]
    },
    {
     "name": "stdout",
     "output_type": "stream",
     "text": [
      "0:00:00.781966\n"
     ]
    }
   ],
   "source": [
    "from datetime import datetime\n",
    "startTime = datetime.now()\n",
    "\n",
    "#do something\n",
    "logr.fit(X_train2, y_train)\n",
    "print(datetime.now() - startTime)"
   ]
  },
  {
   "cell_type": "code",
   "execution_count": 83,
   "metadata": {},
   "outputs": [
    {
     "name": "stderr",
     "output_type": "stream",
     "text": [
      "/Users/krex/anaconda3/envs/learn-env/lib/python3.6/site-packages/sklearn/linear_model/logistic.py:432: FutureWarning: Default solver will be changed to 'lbfgs' in 0.22. Specify a solver to silence this warning.\n",
      "  FutureWarning)\n"
     ]
    },
    {
     "data": {
      "text/plain": [
       "LogisticRegression(C=1.0, class_weight=None, dual=False, fit_intercept=True,\n",
       "                   intercept_scaling=1, l1_ratio=None, max_iter=100,\n",
       "                   multi_class='warn', n_jobs=None, penalty='l2',\n",
       "                   random_state=None, solver='warn', tol=0.0001, verbose=0,\n",
       "                   warm_start=False)"
      ]
     },
     "execution_count": 83,
     "metadata": {},
     "output_type": "execute_result"
    }
   ],
   "source": [
    "logr.fit(X_train2, y_train)"
   ]
  },
  {
   "cell_type": "code",
   "execution_count": 84,
   "metadata": {},
   "outputs": [],
   "source": [
    "y_score_logr = logr.predict_proba(X_test2)[:, 1]"
   ]
  },
  {
   "cell_type": "code",
   "execution_count": 85,
   "metadata": {},
   "outputs": [],
   "source": [
    "fpr_logr, tpr_logr, thresholds_logr = roc_curve(y_test, y_score_logr)"
   ]
  },
  {
   "cell_type": "code",
   "execution_count": 86,
   "metadata": {},
   "outputs": [
    {
     "name": "stdout",
     "output_type": "stream",
     "text": [
      "AUC: 0.5261691974758396\n"
     ]
    },
    {
     "data": {
      "image/png": "[encoded data removed]",
      "text/plain": [
       "<Figure size 720x576 with 1 Axes>"
      ]
     },
     "metadata": {},
     "output_type": "display_data"
    }
   ],
   "source": [
    "\n",
    "#Seaborns Beautiful Styling\n",
    "sns.set_style(\"darkgrid\", {\"axes.facecolor\": \".9\"})\n",
    "\n",
    "print('AUC: {}'.format(auc(fpr_logr, tpr_logr)))\n",
    "plt.figure(figsize=(10,8))\n",
    "lw = 2\n",
    "plt.plot(fpr_logr, tpr_logr, color='darkorange',\n",
    "         lw=lw, label='ROC curve')\n",
    "plt.plot([0, 1], [0, 1], color='navy', lw=lw, linestyle='--')\n",
    "plt.xlim([0.0, 1.0])\n",
    "plt.ylim([0.0, 1.05])\n",
    "plt.yticks([i/20.0 for i in range(21)])\n",
    "plt.xticks([i/20.0 for i in range(21)])\n",
    "plt.xlabel('False Positive Rate')\n",
    "plt.ylabel('True Positive Rate')\n",
    "plt.title('Receiver operating characteristic (ROC) Curve')\n",
    "plt.legend(loc=\"lower right\")\n",
    "plt.show()"
   ]
  },
  {
   "cell_type": "code",
   "execution_count": 87,
   "metadata": {},
   "outputs": [
    {
     "data": {
      "text/plain": [
       "0.6736746695959567"
      ]
     },
     "execution_count": 87,
     "metadata": {},
     "output_type": "execute_result"
    }
   ],
   "source": [
    "log_loss_logr = log_loss(y_test, y_score_logr)\n",
    "log_loss_logr"
   ]
  },
  {
   "cell_type": "code",
   "execution_count": 88,
   "metadata": {},
   "outputs": [
    {
     "name": "stderr",
     "output_type": "stream",
     "text": [
      "/Users/krex/anaconda3/envs/learn-env/lib/python3.6/site-packages/sklearn/linear_model/logistic.py:432: FutureWarning: Default solver will be changed to 'lbfgs' in 0.22. Specify a solver to silence this warning.\n",
      "  FutureWarning)\n",
      "/Users/krex/anaconda3/envs/learn-env/lib/python3.6/site-packages/sklearn/linear_model/logistic.py:432: FutureWarning: Default solver will be changed to 'lbfgs' in 0.22. Specify a solver to silence this warning.\n",
      "  FutureWarning)\n",
      "/Users/krex/anaconda3/envs/learn-env/lib/python3.6/site-packages/sklearn/linear_model/logistic.py:432: FutureWarning: Default solver will be changed to 'lbfgs' in 0.22. Specify a solver to silence this warning.\n",
      "  FutureWarning)\n",
      "/Users/krex/anaconda3/envs/learn-env/lib/python3.6/site-packages/sklearn/linear_model/logistic.py:432: FutureWarning: Default solver will be changed to 'lbfgs' in 0.22. Specify a solver to silence this warning.\n",
      "  FutureWarning)\n",
      "/Users/krex/anaconda3/envs/learn-env/lib/python3.6/site-packages/sklearn/linear_model/logistic.py:432: FutureWarning: Default solver will be changed to 'lbfgs' in 0.22. Specify a solver to silence this warning.\n",
      "  FutureWarning)\n"
     ]
    },
    {
     "name": "stdout",
     "output_type": "stream",
     "text": [
      "THe CV score for n = 5 is [0.59611826 0.59611826 0.59611826 0.59612213 0.59612213]\n"
     ]
    }
   ],
   "source": [
    "cv_scores_logr = cross_val_score(logr, X_train2, y_train, cv=5)\n",
    "print(f'THe CV score for n = 5 is {cv_scores_logr}')"
   ]
  },
  {
   "cell_type": "code",
   "execution_count": 89,
   "metadata": {},
   "outputs": [
    {
     "data": {
      "text/plain": [
       "(0.6736746695959567, 0.6372669587873401)"
      ]
     },
     "execution_count": 89,
     "metadata": {},
     "output_type": "execute_result"
    }
   ],
   "source": [
    "log_loss_logr, log_loss_randf"
   ]
  },
  {
   "cell_type": "code",
   "execution_count": 90,
   "metadata": {},
   "outputs": [],
   "source": [
    "import matplotlib.pyplot as plt\n",
    "from sklearn.model_selection import train_test_split, cross_val_score\n",
    "from sklearn.metrics import accuracy_score, confusion_matrix, classification_report\n",
    "from sklearn.tree import DecisionTreeClassifier\n",
    "from sklearn.ensemble import BaggingClassifier, RandomForestClassifier, GradientBoostingClassifier\n",
    "from sklearn.preprocessing import OneHotEncoder\n",
    "from sklearn_pandas import DataFrameMapper, FunctionTransformer, gen_features, pipeline\n",
    "from sklearn_pandas.pipeline import Pipeline\n",
    "from sklearn.compose import ColumnTransformer\n",
    "import seaborn as sns\n",
    "from sklearn.metrics import f1_score, accuracy_score, roc_auc_score\n",
    "from sklearn.preprocessing import LabelBinarizer\n",
    "import xgboost as xgb\n",
    "import os\n"
   ]
  },
  {
   "cell_type": "code",
   "execution_count": 91,
   "metadata": {
    "scrolled": true
   },
   "outputs": [],
   "source": [
    "classifiers = [RandomForestClassifier(n_estimators=100, max_depth=5), xgb.XGBClassifier(),\n",
    "               GradientBoostingClassifier(n_estimators=100)]"
   ]
  },
  {
   "cell_type": "code",
   "execution_count": 92,
   "metadata": {
    "scrolled": true
   },
   "outputs": [
    {
     "name": "stdout",
     "output_type": "stream",
     "text": [
      "0:00:13.187483\n",
      "RandomForestClassifier(bootstrap=True, class_weight=None, criterion='gini',\n",
      "                       max_depth=5, max_features='auto', max_leaf_nodes=None,\n",
      "                       min_impurity_decrease=0.0, min_impurity_split=None,\n",
      "                       min_samples_leaf=1, min_samples_split=2,\n",
      "                       min_weight_fraction_leaf=0.0, n_estimators=100,\n",
      "                       n_jobs=None, oob_score=False, random_state=None,\n",
      "                       verbose=0, warm_start=False)\n",
      "Log-loss Metric\n",
      "0.6375917367339166\n",
      "\n",
      "\n",
      "AUC: 0.6813222390931326\n"
     ]
    },
    {
     "data": {
      "image/png": "[encoded data removed]",
      "text/plain": [
       "<Figure size 720x576 with 1 Axes>"
      ]
     },
     "metadata": {},
     "output_type": "display_data"
    },
    {
     "name": "stdout",
     "output_type": "stream",
     "text": [
      "\n",
      "\n",
      "Average Cross Val Score, k=5\n",
      "0.634\n"
     ]
    },
    {
     "data": {
      "image/png": "[encoded data removed]",
      "text/plain": [
       "<Figure size 720x720 with 1 Axes>"
      ]
     },
     "metadata": {},
     "output_type": "display_data"
    },
    {
     "name": "stdout",
     "output_type": "stream",
     "text": [
      "0:00:34.144075\n",
      "XGBClassifier(base_score=0.5, booster='gbtree', colsample_bylevel=1,\n",
      "              colsample_bytree=1, gamma=0, learning_rate=0.1, max_delta_step=0,\n",
      "              max_depth=3, min_child_weight=1, missing=None, n_estimators=100,\n",
      "              n_jobs=1, nthread=None, objective='binary:logistic',\n",
      "              random_state=0, reg_alpha=0, reg_lambda=1, scale_pos_weight=1,\n",
      "              seed=None, silent=True, subsample=1)\n",
      "Log-loss Metric\n",
      "0.607106893273315\n",
      "\n",
      "\n",
      "AUC: 0.707927379154008\n"
     ]
    },
    {
     "data": {
      "image/png": "[encoded data removed]",
      "text/plain": [
       "<Figure size 720x576 with 1 Axes>"
      ]
     },
     "metadata": {},
     "output_type": "display_data"
    },
    {
     "name": "stdout",
     "output_type": "stream",
     "text": [
      "\n",
      "\n",
      "Average Cross Val Score, k=5\n",
      "0.661\n"
     ]
    },
    {
     "data": {
      "image/png": "[encoded data removed]",
      "text/plain": [
       "<Figure size 720x720 with 1 Axes>"
      ]
     },
     "metadata": {},
     "output_type": "display_data"
    },
    {
     "name": "stdout",
     "output_type": "stream",
     "text": [
      "0:00:49.362474\n",
      "GradientBoostingClassifier(criterion='friedman_mse', init=None,\n",
      "                           learning_rate=0.1, loss='deviance', max_depth=3,\n",
      "                           max_features=None, max_leaf_nodes=None,\n",
      "                           min_impurity_decrease=0.0, min_impurity_split=None,\n",
      "                           min_samples_leaf=1, min_samples_split=2,\n",
      "                           min_weight_fraction_leaf=0.0, n_estimators=100,\n",
      "                           n_iter_no_change=None, presort='auto',\n",
      "                           random_state=None, subsample=1.0, tol=0.0001,\n",
      "                           validation_fraction=0.1, verbose=0,\n",
      "                           warm_start=False)\n",
      "Log-loss Metric\n",
      "0.6068171861312273\n",
      "\n",
      "\n",
      "AUC: 0.708568241385455\n"
     ]
    },
    {
     "data": {
      "image/png": "[encoded data removed]",
      "text/plain": [
       "<Figure size 720x576 with 1 Axes>"
      ]
     },
     "metadata": {},
     "output_type": "display_data"
    },
    {
     "name": "stdout",
     "output_type": "stream",
     "text": [
      "\n",
      "\n",
      "Average Cross Val Score, k=5\n",
      "0.661\n"
     ]
    },
    {
     "data": {
      "image/png": "[encoded data removed]",
      "text/plain": [
       "<Figure size 720x720 with 1 Axes>"
      ]
     },
     "metadata": {},
     "output_type": "display_data"
    }
   ],
   "source": [
    "cv_list = []\n",
    "\n",
    "for classifier in classifiers:\n",
    "    clf1 = Pipeline(steps=[('classifier', classifier)])\n",
    "    startTime = datetime.now()\n",
    "    clf1.fit(X_train2, y_train)\n",
    "    print(datetime.now() - startTime)\n",
    "    y_score = clf1.predict_proba(X_test2)[:, 1]\n",
    "    fpr, tpr, thresholds = roc_curve(y_test, y_score)\n",
    "    cv_scores = cross_val_score(clf1, X_train2, y_train, cv=5)\n",
    "    cv_list.append(cv_scores)\n",
    "    print(classifier)\n",
    "    print(\"Log-loss Metric\")\n",
    "    print(log_loss(y_test, y_score))\n",
    "    print('\\n')\n",
    "    #Seaborns Beautiful Styling\n",
    "    sns.set_style(\"darkgrid\", {\"axes.facecolor\": \".9\"})\n",
    "    print('AUC: {}'.format(auc(fpr, tpr)))\n",
    "    plt.figure(figsize=(10,8))\n",
    "    lw = 2\n",
    "    plt.plot(fpr, tpr, color='darkorange',lw=lw, label='ROC curve')\n",
    "    plt.plot([0, 1], [0, 1], color='navy', lw=lw, linestyle='--')\n",
    "    plt.xlim([0.0, 1.0])\n",
    "    plt.ylim([0.0, 1.05])\n",
    "    plt.yticks([i/20.0 for i in range(21)])\n",
    "    plt.xticks([i/20.0 for i in range(21)])\n",
    "    plt.xlabel('False Positive Rate')\n",
    "    plt.ylabel('True Positive Rate')\n",
    "    plt.title('Receiver operating characteristic (ROC) Curve')\n",
    "    plt.legend(loc=\"lower right\")\n",
    "    plt.show()\n",
    "    print('\\n')\n",
    "    print('Average Cross Val Score, k=5')\n",
    "    print('{:.3}'.format(np.mean(cv_scores)))\n",
    "    \n",
    "    ifeats = clf1.named_steps['classifier'].feature_importances_\n",
    "    feature_importance = pd.DataFrame(ifeats, index=list(X_train2.columns),\n",
    "                                 columns = ['importance']).sort_values('importance', ascending=False)\n",
    "\n",
    "    fig, ax = plt.subplots(figsize=(10,10))\n",
    "\n",
    "    ax.barh(feature_importance.head(10).index, width=feature_importance.head(10).importance)\n",
    "    plt.gca().invert_yaxis()\n",
    "    plt.title('Feature Importance')\n",
    "    plt.xlabel('Relative Importance')\n",
    "    plt.ylabel('Features')\n",
    "    plt.show()"
   ]
  },
  {
   "cell_type": "markdown",
   "metadata": {},
   "source": [
    "## Observations\n",
    "- seems like our xgboost classifier edges out the Gradient boosting classifer by a hair, and is also faster in terms of length of time to run. \n",
    "\n",
    "- Now lets try to make a pipeline to find the best parameters!\n",
    "\n",
    "\n",
    "\n"
   ]
  },
  {
   "cell_type": "code",
   "execution_count": 93,
   "metadata": {},
   "outputs": [],
   "source": [
    "from xgboost.sklearn import XGBClassifier"
   ]
  },
  {
   "cell_type": "code",
   "execution_count": null,
   "metadata": {},
   "outputs": [],
   "source": []
  },
  {
   "cell_type": "code",
   "execution_count": 97,
   "metadata": {},
   "outputs": [],
   "source": [
    "xgb = XGBClassifier()"
   ]
  },
  {
   "cell_type": "code",
   "execution_count": 98,
   "metadata": {},
   "outputs": [
    {
     "data": {
      "text/plain": [
       "XGBClassifier(base_score=0.5, booster='gbtree', colsample_bylevel=1,\n",
       "              colsample_bytree=0.8, gamma=0, learning_rate=0.1,\n",
       "              max_delta_step=0, max_depth=5, min_child_weight=1, missing=None,\n",
       "              n_estimators=1000, n_jobs=1, nthread=4,\n",
       "              objective='binary:logistic', random_state=0, reg_alpha=0,\n",
       "              reg_lambda=1, scale_pos_weight=1, seed=27, silent=True,\n",
       "              subsample=0.8)"
      ]
     },
     "execution_count": 98,
     "metadata": {},
     "output_type": "execute_result"
    }
   ],
   "source": [
    "xgb.fit(X_train2, y_train,eval_metric='logloss')"
   ]
  },
  {
   "cell_type": "code",
   "execution_count": 99,
   "metadata": {},
   "outputs": [
    {
     "data": {
      "text/plain": [
       "0.6667752757463857"
      ]
     },
     "execution_count": 99,
     "metadata": {},
     "output_type": "execute_result"
    }
   ],
   "source": [
    "xgb.score(X_test2, y_test)"
   ]
  },
  {
   "cell_type": "code",
   "execution_count": 100,
   "metadata": {},
   "outputs": [],
   "source": [
    "y_score_xgb = xgb.predict_proba(X_test2)[:, 1]"
   ]
  },
  {
   "cell_type": "code",
   "execution_count": 103,
   "metadata": {
    "scrolled": true
   },
   "outputs": [
    {
     "data": {
      "text/html": [
       "<div>\n",
       "<style scoped>\n",
       "    .dataframe tbody tr th:only-of-type {\n",
       "        vertical-align: middle;\n",
       "    }\n",
       "\n",
       "    .dataframe tbody tr th {\n",
       "        vertical-align: top;\n",
       "    }\n",
       "\n",
       "    .dataframe thead th {\n",
       "        text-align: right;\n",
       "    }\n",
       "</style>\n",
       "<table border=\"1\" class=\"dataframe\">\n",
       "  <thead>\n",
       "    <tr style=\"text-align: right;\">\n",
       "      <th></th>\n",
       "      <th>0</th>\n",
       "      <th>1</th>\n",
       "      <th>2</th>\n",
       "      <th>3</th>\n",
       "      <th>4</th>\n",
       "      <th>5</th>\n",
       "      <th>6</th>\n",
       "      <th>7</th>\n",
       "      <th>8</th>\n",
       "      <th>9</th>\n",
       "      <th>...</th>\n",
       "      <th>82856</th>\n",
       "      <th>82857</th>\n",
       "      <th>82858</th>\n",
       "      <th>82859</th>\n",
       "      <th>82860</th>\n",
       "      <th>82861</th>\n",
       "      <th>82862</th>\n",
       "      <th>82863</th>\n",
       "      <th>82864</th>\n",
       "      <th>82865</th>\n",
       "    </tr>\n",
       "  </thead>\n",
       "  <tbody>\n",
       "    <tr>\n",
       "      <th>ID</th>\n",
       "      <td>1.030171e+09</td>\n",
       "      <td>228972453.0</td>\n",
       "      <td>110568298.0</td>\n",
       "      <td>2.091366e+09</td>\n",
       "      <td>2.024029e+09</td>\n",
       "      <td>1.033158e+09</td>\n",
       "      <td>773177752.0</td>\n",
       "      <td>1.978055e+09</td>\n",
       "      <td>1.401878e+09</td>\n",
       "      <td>1.221080e+09</td>\n",
       "      <td>...</td>\n",
       "      <td>2.100326e+09</td>\n",
       "      <td>1.706684e+09</td>\n",
       "      <td>1.418265e+09</td>\n",
       "      <td>1.560101e+09</td>\n",
       "      <td>2.108482e+09</td>\n",
       "      <td>1.417321e+09</td>\n",
       "      <td>1.118699e+09</td>\n",
       "      <td>1.688645e+09</td>\n",
       "      <td>5.376285e+08</td>\n",
       "      <td>1.754594e+09</td>\n",
       "    </tr>\n",
       "    <tr>\n",
       "      <th>usd_goal_real</th>\n",
       "      <td>2.500000e+04</td>\n",
       "      <td>20000.0</td>\n",
       "      <td>7000.0</td>\n",
       "      <td>9.000000e+03</td>\n",
       "      <td>1.000000e+03</td>\n",
       "      <td>3.000000e+03</td>\n",
       "      <td>4000.0</td>\n",
       "      <td>2.000000e+02</td>\n",
       "      <td>3.200000e+04</td>\n",
       "      <td>1.600000e+04</td>\n",
       "      <td>...</td>\n",
       "      <td>5.000000e+03</td>\n",
       "      <td>5.000000e+04</td>\n",
       "      <td>1.100000e+03</td>\n",
       "      <td>8.000000e+03</td>\n",
       "      <td>2.000000e+03</td>\n",
       "      <td>1.250000e+02</td>\n",
       "      <td>1.500100e+04</td>\n",
       "      <td>1.200000e+03</td>\n",
       "      <td>8.737631e+04</td>\n",
       "      <td>2.610045e+04</td>\n",
       "    </tr>\n",
       "    <tr>\n",
       "      <th>project_length</th>\n",
       "      <td>2.900000e+01</td>\n",
       "      <td>31.0</td>\n",
       "      <td>29.0</td>\n",
       "      <td>2.900000e+01</td>\n",
       "      <td>2.900000e+01</td>\n",
       "      <td>3.900000e+01</td>\n",
       "      <td>29.0</td>\n",
       "      <td>2.900000e+01</td>\n",
       "      <td>2.900000e+01</td>\n",
       "      <td>5.900000e+01</td>\n",
       "      <td>...</td>\n",
       "      <td>2.900000e+01</td>\n",
       "      <td>2.900000e+01</td>\n",
       "      <td>3.500000e+01</td>\n",
       "      <td>2.900000e+01</td>\n",
       "      <td>2.900000e+01</td>\n",
       "      <td>2.900000e+01</td>\n",
       "      <td>4.700000e+01</td>\n",
       "      <td>2.900000e+01</td>\n",
       "      <td>3.000000e+01</td>\n",
       "      <td>2.900000e+01</td>\n",
       "    </tr>\n",
       "    <tr>\n",
       "      <th>main_category_Comics</th>\n",
       "      <td>0.000000e+00</td>\n",
       "      <td>0.0</td>\n",
       "      <td>0.0</td>\n",
       "      <td>0.000000e+00</td>\n",
       "      <td>0.000000e+00</td>\n",
       "      <td>0.000000e+00</td>\n",
       "      <td>1.0</td>\n",
       "      <td>0.000000e+00</td>\n",
       "      <td>0.000000e+00</td>\n",
       "      <td>0.000000e+00</td>\n",
       "      <td>...</td>\n",
       "      <td>0.000000e+00</td>\n",
       "      <td>0.000000e+00</td>\n",
       "      <td>0.000000e+00</td>\n",
       "      <td>0.000000e+00</td>\n",
       "      <td>0.000000e+00</td>\n",
       "      <td>0.000000e+00</td>\n",
       "      <td>0.000000e+00</td>\n",
       "      <td>0.000000e+00</td>\n",
       "      <td>0.000000e+00</td>\n",
       "      <td>0.000000e+00</td>\n",
       "    </tr>\n",
       "    <tr>\n",
       "      <th>main_category_Crafts</th>\n",
       "      <td>0.000000e+00</td>\n",
       "      <td>0.0</td>\n",
       "      <td>0.0</td>\n",
       "      <td>0.000000e+00</td>\n",
       "      <td>0.000000e+00</td>\n",
       "      <td>0.000000e+00</td>\n",
       "      <td>0.0</td>\n",
       "      <td>0.000000e+00</td>\n",
       "      <td>0.000000e+00</td>\n",
       "      <td>0.000000e+00</td>\n",
       "      <td>...</td>\n",
       "      <td>0.000000e+00</td>\n",
       "      <td>0.000000e+00</td>\n",
       "      <td>0.000000e+00</td>\n",
       "      <td>0.000000e+00</td>\n",
       "      <td>0.000000e+00</td>\n",
       "      <td>0.000000e+00</td>\n",
       "      <td>0.000000e+00</td>\n",
       "      <td>0.000000e+00</td>\n",
       "      <td>0.000000e+00</td>\n",
       "      <td>0.000000e+00</td>\n",
       "    </tr>\n",
       "    <tr>\n",
       "      <th>main_category_Dance</th>\n",
       "      <td>0.000000e+00</td>\n",
       "      <td>0.0</td>\n",
       "      <td>0.0</td>\n",
       "      <td>0.000000e+00</td>\n",
       "      <td>0.000000e+00</td>\n",
       "      <td>0.000000e+00</td>\n",
       "      <td>0.0</td>\n",
       "      <td>0.000000e+00</td>\n",
       "      <td>0.000000e+00</td>\n",
       "      <td>0.000000e+00</td>\n",
       "      <td>...</td>\n",
       "      <td>0.000000e+00</td>\n",
       "      <td>0.000000e+00</td>\n",
       "      <td>0.000000e+00</td>\n",
       "      <td>0.000000e+00</td>\n",
       "      <td>0.000000e+00</td>\n",
       "      <td>0.000000e+00</td>\n",
       "      <td>0.000000e+00</td>\n",
       "      <td>0.000000e+00</td>\n",
       "      <td>0.000000e+00</td>\n",
       "      <td>0.000000e+00</td>\n",
       "    </tr>\n",
       "    <tr>\n",
       "      <th>main_category_Design</th>\n",
       "      <td>0.000000e+00</td>\n",
       "      <td>0.0</td>\n",
       "      <td>0.0</td>\n",
       "      <td>0.000000e+00</td>\n",
       "      <td>0.000000e+00</td>\n",
       "      <td>0.000000e+00</td>\n",
       "      <td>0.0</td>\n",
       "      <td>0.000000e+00</td>\n",
       "      <td>0.000000e+00</td>\n",
       "      <td>0.000000e+00</td>\n",
       "      <td>...</td>\n",
       "      <td>0.000000e+00</td>\n",
       "      <td>0.000000e+00</td>\n",
       "      <td>0.000000e+00</td>\n",
       "      <td>0.000000e+00</td>\n",
       "      <td>0.000000e+00</td>\n",
       "      <td>0.000000e+00</td>\n",
       "      <td>0.000000e+00</td>\n",
       "      <td>0.000000e+00</td>\n",
       "      <td>0.000000e+00</td>\n",
       "      <td>0.000000e+00</td>\n",
       "    </tr>\n",
       "    <tr>\n",
       "      <th>main_category_Fashion</th>\n",
       "      <td>0.000000e+00</td>\n",
       "      <td>0.0</td>\n",
       "      <td>0.0</td>\n",
       "      <td>0.000000e+00</td>\n",
       "      <td>0.000000e+00</td>\n",
       "      <td>0.000000e+00</td>\n",
       "      <td>0.0</td>\n",
       "      <td>0.000000e+00</td>\n",
       "      <td>0.000000e+00</td>\n",
       "      <td>1.000000e+00</td>\n",
       "      <td>...</td>\n",
       "      <td>0.000000e+00</td>\n",
       "      <td>0.000000e+00</td>\n",
       "      <td>0.000000e+00</td>\n",
       "      <td>0.000000e+00</td>\n",
       "      <td>0.000000e+00</td>\n",
       "      <td>0.000000e+00</td>\n",
       "      <td>0.000000e+00</td>\n",
       "      <td>0.000000e+00</td>\n",
       "      <td>0.000000e+00</td>\n",
       "      <td>0.000000e+00</td>\n",
       "    </tr>\n",
       "    <tr>\n",
       "      <th>main_category_Film &amp; Video</th>\n",
       "      <td>0.000000e+00</td>\n",
       "      <td>0.0</td>\n",
       "      <td>0.0</td>\n",
       "      <td>0.000000e+00</td>\n",
       "      <td>1.000000e+00</td>\n",
       "      <td>0.000000e+00</td>\n",
       "      <td>0.0</td>\n",
       "      <td>0.000000e+00</td>\n",
       "      <td>0.000000e+00</td>\n",
       "      <td>0.000000e+00</td>\n",
       "      <td>...</td>\n",
       "      <td>0.000000e+00</td>\n",
       "      <td>1.000000e+00</td>\n",
       "      <td>0.000000e+00</td>\n",
       "      <td>0.000000e+00</td>\n",
       "      <td>1.000000e+00</td>\n",
       "      <td>0.000000e+00</td>\n",
       "      <td>1.000000e+00</td>\n",
       "      <td>0.000000e+00</td>\n",
       "      <td>0.000000e+00</td>\n",
       "      <td>0.000000e+00</td>\n",
       "    </tr>\n",
       "    <tr>\n",
       "      <th>main_category_Food</th>\n",
       "      <td>0.000000e+00</td>\n",
       "      <td>0.0</td>\n",
       "      <td>0.0</td>\n",
       "      <td>0.000000e+00</td>\n",
       "      <td>0.000000e+00</td>\n",
       "      <td>0.000000e+00</td>\n",
       "      <td>0.0</td>\n",
       "      <td>0.000000e+00</td>\n",
       "      <td>0.000000e+00</td>\n",
       "      <td>0.000000e+00</td>\n",
       "      <td>...</td>\n",
       "      <td>0.000000e+00</td>\n",
       "      <td>0.000000e+00</td>\n",
       "      <td>0.000000e+00</td>\n",
       "      <td>0.000000e+00</td>\n",
       "      <td>0.000000e+00</td>\n",
       "      <td>0.000000e+00</td>\n",
       "      <td>0.000000e+00</td>\n",
       "      <td>0.000000e+00</td>\n",
       "      <td>0.000000e+00</td>\n",
       "      <td>0.000000e+00</td>\n",
       "    </tr>\n",
       "    <tr>\n",
       "      <th>main_category_Games</th>\n",
       "      <td>0.000000e+00</td>\n",
       "      <td>1.0</td>\n",
       "      <td>0.0</td>\n",
       "      <td>0.000000e+00</td>\n",
       "      <td>0.000000e+00</td>\n",
       "      <td>0.000000e+00</td>\n",
       "      <td>0.0</td>\n",
       "      <td>0.000000e+00</td>\n",
       "      <td>0.000000e+00</td>\n",
       "      <td>0.000000e+00</td>\n",
       "      <td>...</td>\n",
       "      <td>0.000000e+00</td>\n",
       "      <td>0.000000e+00</td>\n",
       "      <td>0.000000e+00</td>\n",
       "      <td>0.000000e+00</td>\n",
       "      <td>0.000000e+00</td>\n",
       "      <td>0.000000e+00</td>\n",
       "      <td>0.000000e+00</td>\n",
       "      <td>0.000000e+00</td>\n",
       "      <td>1.000000e+00</td>\n",
       "      <td>0.000000e+00</td>\n",
       "    </tr>\n",
       "    <tr>\n",
       "      <th>main_category_Journalism</th>\n",
       "      <td>0.000000e+00</td>\n",
       "      <td>0.0</td>\n",
       "      <td>0.0</td>\n",
       "      <td>0.000000e+00</td>\n",
       "      <td>0.000000e+00</td>\n",
       "      <td>0.000000e+00</td>\n",
       "      <td>0.0</td>\n",
       "      <td>0.000000e+00</td>\n",
       "      <td>0.000000e+00</td>\n",
       "      <td>0.000000e+00</td>\n",
       "      <td>...</td>\n",
       "      <td>0.000000e+00</td>\n",
       "      <td>0.000000e+00</td>\n",
       "      <td>0.000000e+00</td>\n",
       "      <td>0.000000e+00</td>\n",
       "      <td>0.000000e+00</td>\n",
       "      <td>0.000000e+00</td>\n",
       "      <td>0.000000e+00</td>\n",
       "      <td>0.000000e+00</td>\n",
       "      <td>0.000000e+00</td>\n",
       "      <td>0.000000e+00</td>\n",
       "    </tr>\n",
       "    <tr>\n",
       "      <th>main_category_Music</th>\n",
       "      <td>0.000000e+00</td>\n",
       "      <td>0.0</td>\n",
       "      <td>0.0</td>\n",
       "      <td>0.000000e+00</td>\n",
       "      <td>0.000000e+00</td>\n",
       "      <td>0.000000e+00</td>\n",
       "      <td>0.0</td>\n",
       "      <td>0.000000e+00</td>\n",
       "      <td>0.000000e+00</td>\n",
       "      <td>0.000000e+00</td>\n",
       "      <td>...</td>\n",
       "      <td>0.000000e+00</td>\n",
       "      <td>0.000000e+00</td>\n",
       "      <td>1.000000e+00</td>\n",
       "      <td>0.000000e+00</td>\n",
       "      <td>0.000000e+00</td>\n",
       "      <td>0.000000e+00</td>\n",
       "      <td>0.000000e+00</td>\n",
       "      <td>1.000000e+00</td>\n",
       "      <td>0.000000e+00</td>\n",
       "      <td>0.000000e+00</td>\n",
       "    </tr>\n",
       "    <tr>\n",
       "      <th>main_category_Photography</th>\n",
       "      <td>0.000000e+00</td>\n",
       "      <td>0.0</td>\n",
       "      <td>0.0</td>\n",
       "      <td>0.000000e+00</td>\n",
       "      <td>0.000000e+00</td>\n",
       "      <td>0.000000e+00</td>\n",
       "      <td>0.0</td>\n",
       "      <td>0.000000e+00</td>\n",
       "      <td>0.000000e+00</td>\n",
       "      <td>0.000000e+00</td>\n",
       "      <td>...</td>\n",
       "      <td>0.000000e+00</td>\n",
       "      <td>0.000000e+00</td>\n",
       "      <td>0.000000e+00</td>\n",
       "      <td>1.000000e+00</td>\n",
       "      <td>0.000000e+00</td>\n",
       "      <td>0.000000e+00</td>\n",
       "      <td>0.000000e+00</td>\n",
       "      <td>0.000000e+00</td>\n",
       "      <td>0.000000e+00</td>\n",
       "      <td>0.000000e+00</td>\n",
       "    </tr>\n",
       "    <tr>\n",
       "      <th>main_category_Publishing</th>\n",
       "      <td>0.000000e+00</td>\n",
       "      <td>0.0</td>\n",
       "      <td>0.0</td>\n",
       "      <td>1.000000e+00</td>\n",
       "      <td>0.000000e+00</td>\n",
       "      <td>1.000000e+00</td>\n",
       "      <td>0.0</td>\n",
       "      <td>1.000000e+00</td>\n",
       "      <td>1.000000e+00</td>\n",
       "      <td>0.000000e+00</td>\n",
       "      <td>...</td>\n",
       "      <td>0.000000e+00</td>\n",
       "      <td>0.000000e+00</td>\n",
       "      <td>0.000000e+00</td>\n",
       "      <td>0.000000e+00</td>\n",
       "      <td>0.000000e+00</td>\n",
       "      <td>0.000000e+00</td>\n",
       "      <td>0.000000e+00</td>\n",
       "      <td>0.000000e+00</td>\n",
       "      <td>0.000000e+00</td>\n",
       "      <td>0.000000e+00</td>\n",
       "    </tr>\n",
       "    <tr>\n",
       "      <th>main_category_Technology</th>\n",
       "      <td>0.000000e+00</td>\n",
       "      <td>0.0</td>\n",
       "      <td>1.0</td>\n",
       "      <td>0.000000e+00</td>\n",
       "      <td>0.000000e+00</td>\n",
       "      <td>0.000000e+00</td>\n",
       "      <td>0.0</td>\n",
       "      <td>0.000000e+00</td>\n",
       "      <td>0.000000e+00</td>\n",
       "      <td>0.000000e+00</td>\n",
       "      <td>...</td>\n",
       "      <td>1.000000e+00</td>\n",
       "      <td>0.000000e+00</td>\n",
       "      <td>0.000000e+00</td>\n",
       "      <td>0.000000e+00</td>\n",
       "      <td>0.000000e+00</td>\n",
       "      <td>1.000000e+00</td>\n",
       "      <td>0.000000e+00</td>\n",
       "      <td>0.000000e+00</td>\n",
       "      <td>0.000000e+00</td>\n",
       "      <td>1.000000e+00</td>\n",
       "    </tr>\n",
       "    <tr>\n",
       "      <th>main_category_Theater</th>\n",
       "      <td>1.000000e+00</td>\n",
       "      <td>0.0</td>\n",
       "      <td>0.0</td>\n",
       "      <td>0.000000e+00</td>\n",
       "      <td>0.000000e+00</td>\n",
       "      <td>0.000000e+00</td>\n",
       "      <td>0.0</td>\n",
       "      <td>0.000000e+00</td>\n",
       "      <td>0.000000e+00</td>\n",
       "      <td>0.000000e+00</td>\n",
       "      <td>...</td>\n",
       "      <td>0.000000e+00</td>\n",
       "      <td>0.000000e+00</td>\n",
       "      <td>0.000000e+00</td>\n",
       "      <td>0.000000e+00</td>\n",
       "      <td>0.000000e+00</td>\n",
       "      <td>0.000000e+00</td>\n",
       "      <td>0.000000e+00</td>\n",
       "      <td>0.000000e+00</td>\n",
       "      <td>0.000000e+00</td>\n",
       "      <td>0.000000e+00</td>\n",
       "    </tr>\n",
       "    <tr>\n",
       "      <th>country_AU</th>\n",
       "      <td>0.000000e+00</td>\n",
       "      <td>0.0</td>\n",
       "      <td>0.0</td>\n",
       "      <td>0.000000e+00</td>\n",
       "      <td>0.000000e+00</td>\n",
       "      <td>0.000000e+00</td>\n",
       "      <td>0.0</td>\n",
       "      <td>0.000000e+00</td>\n",
       "      <td>0.000000e+00</td>\n",
       "      <td>0.000000e+00</td>\n",
       "      <td>...</td>\n",
       "      <td>0.000000e+00</td>\n",
       "      <td>0.000000e+00</td>\n",
       "      <td>0.000000e+00</td>\n",
       "      <td>0.000000e+00</td>\n",
       "      <td>0.000000e+00</td>\n",
       "      <td>0.000000e+00</td>\n",
       "      <td>0.000000e+00</td>\n",
       "      <td>0.000000e+00</td>\n",
       "      <td>0.000000e+00</td>\n",
       "      <td>1.000000e+00</td>\n",
       "    </tr>\n",
       "    <tr>\n",
       "      <th>country_BE</th>\n",
       "      <td>0.000000e+00</td>\n",
       "      <td>0.0</td>\n",
       "      <td>0.0</td>\n",
       "      <td>0.000000e+00</td>\n",
       "      <td>0.000000e+00</td>\n",
       "      <td>0.000000e+00</td>\n",
       "      <td>0.0</td>\n",
       "      <td>0.000000e+00</td>\n",
       "      <td>0.000000e+00</td>\n",
       "      <td>0.000000e+00</td>\n",
       "      <td>...</td>\n",
       "      <td>0.000000e+00</td>\n",
       "      <td>0.000000e+00</td>\n",
       "      <td>0.000000e+00</td>\n",
       "      <td>0.000000e+00</td>\n",
       "      <td>0.000000e+00</td>\n",
       "      <td>0.000000e+00</td>\n",
       "      <td>0.000000e+00</td>\n",
       "      <td>0.000000e+00</td>\n",
       "      <td>0.000000e+00</td>\n",
       "      <td>0.000000e+00</td>\n",
       "    </tr>\n",
       "    <tr>\n",
       "      <th>country_CA</th>\n",
       "      <td>0.000000e+00</td>\n",
       "      <td>0.0</td>\n",
       "      <td>0.0</td>\n",
       "      <td>0.000000e+00</td>\n",
       "      <td>0.000000e+00</td>\n",
       "      <td>0.000000e+00</td>\n",
       "      <td>0.0</td>\n",
       "      <td>0.000000e+00</td>\n",
       "      <td>0.000000e+00</td>\n",
       "      <td>0.000000e+00</td>\n",
       "      <td>...</td>\n",
       "      <td>0.000000e+00</td>\n",
       "      <td>0.000000e+00</td>\n",
       "      <td>0.000000e+00</td>\n",
       "      <td>0.000000e+00</td>\n",
       "      <td>0.000000e+00</td>\n",
       "      <td>0.000000e+00</td>\n",
       "      <td>0.000000e+00</td>\n",
       "      <td>0.000000e+00</td>\n",
       "      <td>0.000000e+00</td>\n",
       "      <td>0.000000e+00</td>\n",
       "    </tr>\n",
       "    <tr>\n",
       "      <th>country_CH</th>\n",
       "      <td>0.000000e+00</td>\n",
       "      <td>0.0</td>\n",
       "      <td>0.0</td>\n",
       "      <td>0.000000e+00</td>\n",
       "      <td>0.000000e+00</td>\n",
       "      <td>0.000000e+00</td>\n",
       "      <td>0.0</td>\n",
       "      <td>0.000000e+00</td>\n",
       "      <td>0.000000e+00</td>\n",
       "      <td>0.000000e+00</td>\n",
       "      <td>...</td>\n",
       "      <td>0.000000e+00</td>\n",
       "      <td>0.000000e+00</td>\n",
       "      <td>0.000000e+00</td>\n",
       "      <td>0.000000e+00</td>\n",
       "      <td>0.000000e+00</td>\n",
       "      <td>0.000000e+00</td>\n",
       "      <td>0.000000e+00</td>\n",
       "      <td>0.000000e+00</td>\n",
       "      <td>0.000000e+00</td>\n",
       "      <td>0.000000e+00</td>\n",
       "    </tr>\n",
       "    <tr>\n",
       "      <th>country_DE</th>\n",
       "      <td>0.000000e+00</td>\n",
       "      <td>0.0</td>\n",
       "      <td>0.0</td>\n",
       "      <td>0.000000e+00</td>\n",
       "      <td>0.000000e+00</td>\n",
       "      <td>0.000000e+00</td>\n",
       "      <td>0.0</td>\n",
       "      <td>0.000000e+00</td>\n",
       "      <td>0.000000e+00</td>\n",
       "      <td>0.000000e+00</td>\n",
       "      <td>...</td>\n",
       "      <td>0.000000e+00</td>\n",
       "      <td>0.000000e+00</td>\n",
       "      <td>0.000000e+00</td>\n",
       "      <td>0.000000e+00</td>\n",
       "      <td>0.000000e+00</td>\n",
       "      <td>0.000000e+00</td>\n",
       "      <td>0.000000e+00</td>\n",
       "      <td>0.000000e+00</td>\n",
       "      <td>0.000000e+00</td>\n",
       "      <td>0.000000e+00</td>\n",
       "    </tr>\n",
       "    <tr>\n",
       "      <th>country_DK</th>\n",
       "      <td>0.000000e+00</td>\n",
       "      <td>0.0</td>\n",
       "      <td>0.0</td>\n",
       "      <td>0.000000e+00</td>\n",
       "      <td>0.000000e+00</td>\n",
       "      <td>0.000000e+00</td>\n",
       "      <td>0.0</td>\n",
       "      <td>0.000000e+00</td>\n",
       "      <td>0.000000e+00</td>\n",
       "      <td>0.000000e+00</td>\n",
       "      <td>...</td>\n",
       "      <td>0.000000e+00</td>\n",
       "      <td>0.000000e+00</td>\n",
       "      <td>0.000000e+00</td>\n",
       "      <td>0.000000e+00</td>\n",
       "      <td>0.000000e+00</td>\n",
       "      <td>0.000000e+00</td>\n",
       "      <td>0.000000e+00</td>\n",
       "      <td>0.000000e+00</td>\n",
       "      <td>0.000000e+00</td>\n",
       "      <td>0.000000e+00</td>\n",
       "    </tr>\n",
       "    <tr>\n",
       "      <th>country_ES</th>\n",
       "      <td>0.000000e+00</td>\n",
       "      <td>0.0</td>\n",
       "      <td>0.0</td>\n",
       "      <td>0.000000e+00</td>\n",
       "      <td>0.000000e+00</td>\n",
       "      <td>0.000000e+00</td>\n",
       "      <td>0.0</td>\n",
       "      <td>0.000000e+00</td>\n",
       "      <td>0.000000e+00</td>\n",
       "      <td>0.000000e+00</td>\n",
       "      <td>...</td>\n",
       "      <td>0.000000e+00</td>\n",
       "      <td>0.000000e+00</td>\n",
       "      <td>0.000000e+00</td>\n",
       "      <td>0.000000e+00</td>\n",
       "      <td>0.000000e+00</td>\n",
       "      <td>0.000000e+00</td>\n",
       "      <td>0.000000e+00</td>\n",
       "      <td>0.000000e+00</td>\n",
       "      <td>1.000000e+00</td>\n",
       "      <td>0.000000e+00</td>\n",
       "    </tr>\n",
       "    <tr>\n",
       "      <th>country_FR</th>\n",
       "      <td>0.000000e+00</td>\n",
       "      <td>0.0</td>\n",
       "      <td>0.0</td>\n",
       "      <td>0.000000e+00</td>\n",
       "      <td>0.000000e+00</td>\n",
       "      <td>0.000000e+00</td>\n",
       "      <td>0.0</td>\n",
       "      <td>0.000000e+00</td>\n",
       "      <td>0.000000e+00</td>\n",
       "      <td>0.000000e+00</td>\n",
       "      <td>...</td>\n",
       "      <td>0.000000e+00</td>\n",
       "      <td>0.000000e+00</td>\n",
       "      <td>0.000000e+00</td>\n",
       "      <td>0.000000e+00</td>\n",
       "      <td>0.000000e+00</td>\n",
       "      <td>0.000000e+00</td>\n",
       "      <td>0.000000e+00</td>\n",
       "      <td>0.000000e+00</td>\n",
       "      <td>0.000000e+00</td>\n",
       "      <td>0.000000e+00</td>\n",
       "    </tr>\n",
       "    <tr>\n",
       "      <th>country_GB</th>\n",
       "      <td>0.000000e+00</td>\n",
       "      <td>0.0</td>\n",
       "      <td>0.0</td>\n",
       "      <td>0.000000e+00</td>\n",
       "      <td>0.000000e+00</td>\n",
       "      <td>0.000000e+00</td>\n",
       "      <td>0.0</td>\n",
       "      <td>0.000000e+00</td>\n",
       "      <td>0.000000e+00</td>\n",
       "      <td>0.000000e+00</td>\n",
       "      <td>...</td>\n",
       "      <td>0.000000e+00</td>\n",
       "      <td>0.000000e+00</td>\n",
       "      <td>0.000000e+00</td>\n",
       "      <td>0.000000e+00</td>\n",
       "      <td>0.000000e+00</td>\n",
       "      <td>0.000000e+00</td>\n",
       "      <td>0.000000e+00</td>\n",
       "      <td>0.000000e+00</td>\n",
       "      <td>0.000000e+00</td>\n",
       "      <td>0.000000e+00</td>\n",
       "    </tr>\n",
       "    <tr>\n",
       "      <th>country_HK</th>\n",
       "      <td>0.000000e+00</td>\n",
       "      <td>0.0</td>\n",
       "      <td>0.0</td>\n",
       "      <td>0.000000e+00</td>\n",
       "      <td>0.000000e+00</td>\n",
       "      <td>0.000000e+00</td>\n",
       "      <td>0.0</td>\n",
       "      <td>0.000000e+00</td>\n",
       "      <td>0.000000e+00</td>\n",
       "      <td>0.000000e+00</td>\n",
       "      <td>...</td>\n",
       "      <td>0.000000e+00</td>\n",
       "      <td>0.000000e+00</td>\n",
       "      <td>0.000000e+00</td>\n",
       "      <td>0.000000e+00</td>\n",
       "      <td>0.000000e+00</td>\n",
       "      <td>0.000000e+00</td>\n",
       "      <td>0.000000e+00</td>\n",
       "      <td>0.000000e+00</td>\n",
       "      <td>0.000000e+00</td>\n",
       "      <td>0.000000e+00</td>\n",
       "    </tr>\n",
       "    <tr>\n",
       "      <th>country_IE</th>\n",
       "      <td>0.000000e+00</td>\n",
       "      <td>0.0</td>\n",
       "      <td>0.0</td>\n",
       "      <td>0.000000e+00</td>\n",
       "      <td>0.000000e+00</td>\n",
       "      <td>0.000000e+00</td>\n",
       "      <td>0.0</td>\n",
       "      <td>0.000000e+00</td>\n",
       "      <td>0.000000e+00</td>\n",
       "      <td>0.000000e+00</td>\n",
       "      <td>...</td>\n",
       "      <td>0.000000e+00</td>\n",
       "      <td>0.000000e+00</td>\n",
       "      <td>0.000000e+00</td>\n",
       "      <td>0.000000e+00</td>\n",
       "      <td>0.000000e+00</td>\n",
       "      <td>0.000000e+00</td>\n",
       "      <td>0.000000e+00</td>\n",
       "      <td>0.000000e+00</td>\n",
       "      <td>0.000000e+00</td>\n",
       "      <td>0.000000e+00</td>\n",
       "    </tr>\n",
       "    <tr>\n",
       "      <th>country_IT</th>\n",
       "      <td>0.000000e+00</td>\n",
       "      <td>0.0</td>\n",
       "      <td>0.0</td>\n",
       "      <td>0.000000e+00</td>\n",
       "      <td>0.000000e+00</td>\n",
       "      <td>0.000000e+00</td>\n",
       "      <td>0.0</td>\n",
       "      <td>0.000000e+00</td>\n",
       "      <td>0.000000e+00</td>\n",
       "      <td>0.000000e+00</td>\n",
       "      <td>...</td>\n",
       "      <td>0.000000e+00</td>\n",
       "      <td>0.000000e+00</td>\n",
       "      <td>0.000000e+00</td>\n",
       "      <td>0.000000e+00</td>\n",
       "      <td>0.000000e+00</td>\n",
       "      <td>0.000000e+00</td>\n",
       "      <td>0.000000e+00</td>\n",
       "      <td>0.000000e+00</td>\n",
       "      <td>0.000000e+00</td>\n",
       "      <td>0.000000e+00</td>\n",
       "    </tr>\n",
       "    <tr>\n",
       "      <th>country_JP</th>\n",
       "      <td>0.000000e+00</td>\n",
       "      <td>0.0</td>\n",
       "      <td>0.0</td>\n",
       "      <td>0.000000e+00</td>\n",
       "      <td>0.000000e+00</td>\n",
       "      <td>0.000000e+00</td>\n",
       "      <td>0.0</td>\n",
       "      <td>0.000000e+00</td>\n",
       "      <td>0.000000e+00</td>\n",
       "      <td>0.000000e+00</td>\n",
       "      <td>...</td>\n",
       "      <td>0.000000e+00</td>\n",
       "      <td>0.000000e+00</td>\n",
       "      <td>0.000000e+00</td>\n",
       "      <td>0.000000e+00</td>\n",
       "      <td>0.000000e+00</td>\n",
       "      <td>0.000000e+00</td>\n",
       "      <td>0.000000e+00</td>\n",
       "      <td>0.000000e+00</td>\n",
       "      <td>0.000000e+00</td>\n",
       "      <td>0.000000e+00</td>\n",
       "    </tr>\n",
       "    <tr>\n",
       "      <th>country_LU</th>\n",
       "      <td>0.000000e+00</td>\n",
       "      <td>0.0</td>\n",
       "      <td>0.0</td>\n",
       "      <td>0.000000e+00</td>\n",
       "      <td>0.000000e+00</td>\n",
       "      <td>0.000000e+00</td>\n",
       "      <td>0.0</td>\n",
       "      <td>0.000000e+00</td>\n",
       "      <td>0.000000e+00</td>\n",
       "      <td>0.000000e+00</td>\n",
       "      <td>...</td>\n",
       "      <td>0.000000e+00</td>\n",
       "      <td>0.000000e+00</td>\n",
       "      <td>0.000000e+00</td>\n",
       "      <td>0.000000e+00</td>\n",
       "      <td>0.000000e+00</td>\n",
       "      <td>0.000000e+00</td>\n",
       "      <td>0.000000e+00</td>\n",
       "      <td>0.000000e+00</td>\n",
       "      <td>0.000000e+00</td>\n",
       "      <td>0.000000e+00</td>\n",
       "    </tr>\n",
       "    <tr>\n",
       "      <th>country_MX</th>\n",
       "      <td>0.000000e+00</td>\n",
       "      <td>0.0</td>\n",
       "      <td>0.0</td>\n",
       "      <td>0.000000e+00</td>\n",
       "      <td>0.000000e+00</td>\n",
       "      <td>0.000000e+00</td>\n",
       "      <td>0.0</td>\n",
       "      <td>0.000000e+00</td>\n",
       "      <td>0.000000e+00</td>\n",
       "      <td>0.000000e+00</td>\n",
       "      <td>...</td>\n",
       "      <td>0.000000e+00</td>\n",
       "      <td>0.000000e+00</td>\n",
       "      <td>0.000000e+00</td>\n",
       "      <td>0.000000e+00</td>\n",
       "      <td>0.000000e+00</td>\n",
       "      <td>0.000000e+00</td>\n",
       "      <td>0.000000e+00</td>\n",
       "      <td>0.000000e+00</td>\n",
       "      <td>0.000000e+00</td>\n",
       "      <td>0.000000e+00</td>\n",
       "    </tr>\n",
       "    <tr>\n",
       "      <th>country_NL</th>\n",
       "      <td>0.000000e+00</td>\n",
       "      <td>0.0</td>\n",
       "      <td>0.0</td>\n",
       "      <td>0.000000e+00</td>\n",
       "      <td>0.000000e+00</td>\n",
       "      <td>0.000000e+00</td>\n",
       "      <td>0.0</td>\n",
       "      <td>0.000000e+00</td>\n",
       "      <td>0.000000e+00</td>\n",
       "      <td>0.000000e+00</td>\n",
       "      <td>...</td>\n",
       "      <td>0.000000e+00</td>\n",
       "      <td>0.000000e+00</td>\n",
       "      <td>0.000000e+00</td>\n",
       "      <td>0.000000e+00</td>\n",
       "      <td>0.000000e+00</td>\n",
       "      <td>0.000000e+00</td>\n",
       "      <td>0.000000e+00</td>\n",
       "      <td>0.000000e+00</td>\n",
       "      <td>0.000000e+00</td>\n",
       "      <td>0.000000e+00</td>\n",
       "    </tr>\n",
       "    <tr>\n",
       "      <th>country_NO</th>\n",
       "      <td>0.000000e+00</td>\n",
       "      <td>0.0</td>\n",
       "      <td>0.0</td>\n",
       "      <td>0.000000e+00</td>\n",
       "      <td>0.000000e+00</td>\n",
       "      <td>0.000000e+00</td>\n",
       "      <td>0.0</td>\n",
       "      <td>0.000000e+00</td>\n",
       "      <td>0.000000e+00</td>\n",
       "      <td>0.000000e+00</td>\n",
       "      <td>...</td>\n",
       "      <td>0.000000e+00</td>\n",
       "      <td>0.000000e+00</td>\n",
       "      <td>0.000000e+00</td>\n",
       "      <td>0.000000e+00</td>\n",
       "      <td>0.000000e+00</td>\n",
       "      <td>0.000000e+00</td>\n",
       "      <td>0.000000e+00</td>\n",
       "      <td>0.000000e+00</td>\n",
       "      <td>0.000000e+00</td>\n",
       "      <td>0.000000e+00</td>\n",
       "    </tr>\n",
       "    <tr>\n",
       "      <th>country_NZ</th>\n",
       "      <td>0.000000e+00</td>\n",
       "      <td>0.0</td>\n",
       "      <td>0.0</td>\n",
       "      <td>0.000000e+00</td>\n",
       "      <td>0.000000e+00</td>\n",
       "      <td>0.000000e+00</td>\n",
       "      <td>0.0</td>\n",
       "      <td>0.000000e+00</td>\n",
       "      <td>0.000000e+00</td>\n",
       "      <td>0.000000e+00</td>\n",
       "      <td>...</td>\n",
       "      <td>0.000000e+00</td>\n",
       "      <td>0.000000e+00</td>\n",
       "      <td>0.000000e+00</td>\n",
       "      <td>0.000000e+00</td>\n",
       "      <td>0.000000e+00</td>\n",
       "      <td>0.000000e+00</td>\n",
       "      <td>0.000000e+00</td>\n",
       "      <td>0.000000e+00</td>\n",
       "      <td>0.000000e+00</td>\n",
       "      <td>0.000000e+00</td>\n",
       "    </tr>\n",
       "    <tr>\n",
       "      <th>country_SE</th>\n",
       "      <td>0.000000e+00</td>\n",
       "      <td>0.0</td>\n",
       "      <td>0.0</td>\n",
       "      <td>0.000000e+00</td>\n",
       "      <td>0.000000e+00</td>\n",
       "      <td>0.000000e+00</td>\n",
       "      <td>0.0</td>\n",
       "      <td>0.000000e+00</td>\n",
       "      <td>0.000000e+00</td>\n",
       "      <td>0.000000e+00</td>\n",
       "      <td>...</td>\n",
       "      <td>0.000000e+00</td>\n",
       "      <td>0.000000e+00</td>\n",
       "      <td>0.000000e+00</td>\n",
       "      <td>0.000000e+00</td>\n",
       "      <td>0.000000e+00</td>\n",
       "      <td>0.000000e+00</td>\n",
       "      <td>0.000000e+00</td>\n",
       "      <td>0.000000e+00</td>\n",
       "      <td>0.000000e+00</td>\n",
       "      <td>0.000000e+00</td>\n",
       "    </tr>\n",
       "    <tr>\n",
       "      <th>country_SG</th>\n",
       "      <td>0.000000e+00</td>\n",
       "      <td>0.0</td>\n",
       "      <td>0.0</td>\n",
       "      <td>0.000000e+00</td>\n",
       "      <td>0.000000e+00</td>\n",
       "      <td>0.000000e+00</td>\n",
       "      <td>0.0</td>\n",
       "      <td>0.000000e+00</td>\n",
       "      <td>0.000000e+00</td>\n",
       "      <td>0.000000e+00</td>\n",
       "      <td>...</td>\n",
       "      <td>0.000000e+00</td>\n",
       "      <td>0.000000e+00</td>\n",
       "      <td>0.000000e+00</td>\n",
       "      <td>0.000000e+00</td>\n",
       "      <td>0.000000e+00</td>\n",
       "      <td>0.000000e+00</td>\n",
       "      <td>0.000000e+00</td>\n",
       "      <td>0.000000e+00</td>\n",
       "      <td>0.000000e+00</td>\n",
       "      <td>0.000000e+00</td>\n",
       "    </tr>\n",
       "    <tr>\n",
       "      <th>country_US</th>\n",
       "      <td>1.000000e+00</td>\n",
       "      <td>1.0</td>\n",
       "      <td>1.0</td>\n",
       "      <td>1.000000e+00</td>\n",
       "      <td>1.000000e+00</td>\n",
       "      <td>1.000000e+00</td>\n",
       "      <td>1.0</td>\n",
       "      <td>1.000000e+00</td>\n",
       "      <td>1.000000e+00</td>\n",
       "      <td>1.000000e+00</td>\n",
       "      <td>...</td>\n",
       "      <td>1.000000e+00</td>\n",
       "      <td>1.000000e+00</td>\n",
       "      <td>1.000000e+00</td>\n",
       "      <td>1.000000e+00</td>\n",
       "      <td>1.000000e+00</td>\n",
       "      <td>1.000000e+00</td>\n",
       "      <td>1.000000e+00</td>\n",
       "      <td>1.000000e+00</td>\n",
       "      <td>0.000000e+00</td>\n",
       "      <td>0.000000e+00</td>\n",
       "    </tr>\n",
       "  </tbody>\n",
       "</table>\n",
       "<p>38 rows × 82866 columns</p>\n",
       "</div>"
      ],
      "text/plain": [
       "                                   0            1            2      \\\n",
       "ID                          1.030171e+09  228972453.0  110568298.0   \n",
       "usd_goal_real               2.500000e+04      20000.0       7000.0   \n",
       "project_length              2.900000e+01         31.0         29.0   \n",
       "main_category_Comics        0.000000e+00          0.0          0.0   \n",
       "main_category_Crafts        0.000000e+00          0.0          0.0   \n",
       "main_category_Dance         0.000000e+00          0.0          0.0   \n",
       "main_category_Design        0.000000e+00          0.0          0.0   \n",
       "main_category_Fashion       0.000000e+00          0.0          0.0   \n",
       "main_category_Film & Video  0.000000e+00          0.0          0.0   \n",
       "main_category_Food          0.000000e+00          0.0          0.0   \n",
       "main_category_Games         0.000000e+00          1.0          0.0   \n",
       "main_category_Journalism    0.000000e+00          0.0          0.0   \n",
       "main_category_Music         0.000000e+00          0.0          0.0   \n",
       "main_category_Photography   0.000000e+00          0.0          0.0   \n",
       "main_category_Publishing    0.000000e+00          0.0          0.0   \n",
       "main_category_Technology    0.000000e+00          0.0          1.0   \n",
       "main_category_Theater       1.000000e+00          0.0          0.0   \n",
       "country_AU                  0.000000e+00          0.0          0.0   \n",
       "country_BE                  0.000000e+00          0.0          0.0   \n",
       "country_CA                  0.000000e+00          0.0          0.0   \n",
       "country_CH                  0.000000e+00          0.0          0.0   \n",
       "country_DE                  0.000000e+00          0.0          0.0   \n",
       "country_DK                  0.000000e+00          0.0          0.0   \n",
       "country_ES                  0.000000e+00          0.0          0.0   \n",
       "country_FR                  0.000000e+00          0.0          0.0   \n",
       "country_GB                  0.000000e+00          0.0          0.0   \n",
       "country_HK                  0.000000e+00          0.0          0.0   \n",
       "country_IE                  0.000000e+00          0.0          0.0   \n",
       "country_IT                  0.000000e+00          0.0          0.0   \n",
       "country_JP                  0.000000e+00          0.0          0.0   \n",
       "country_LU                  0.000000e+00          0.0          0.0   \n",
       "country_MX                  0.000000e+00          0.0          0.0   \n",
       "country_NL                  0.000000e+00          0.0          0.0   \n",
       "country_NO                  0.000000e+00          0.0          0.0   \n",
       "country_NZ                  0.000000e+00          0.0          0.0   \n",
       "country_SE                  0.000000e+00          0.0          0.0   \n",
       "country_SG                  0.000000e+00          0.0          0.0   \n",
       "country_US                  1.000000e+00          1.0          1.0   \n",
       "\n",
       "                                   3             4             5      \\\n",
       "ID                          2.091366e+09  2.024029e+09  1.033158e+09   \n",
       "usd_goal_real               9.000000e+03  1.000000e+03  3.000000e+03   \n",
       "project_length              2.900000e+01  2.900000e+01  3.900000e+01   \n",
       "main_category_Comics        0.000000e+00  0.000000e+00  0.000000e+00   \n",
       "main_category_Crafts        0.000000e+00  0.000000e+00  0.000000e+00   \n",
       "main_category_Dance         0.000000e+00  0.000000e+00  0.000000e+00   \n",
       "main_category_Design        0.000000e+00  0.000000e+00  0.000000e+00   \n",
       "main_category_Fashion       0.000000e+00  0.000000e+00  0.000000e+00   \n",
       "main_category_Film & Video  0.000000e+00  1.000000e+00  0.000000e+00   \n",
       "main_category_Food          0.000000e+00  0.000000e+00  0.000000e+00   \n",
       "main_category_Games         0.000000e+00  0.000000e+00  0.000000e+00   \n",
       "main_category_Journalism    0.000000e+00  0.000000e+00  0.000000e+00   \n",
       "main_category_Music         0.000000e+00  0.000000e+00  0.000000e+00   \n",
       "main_category_Photography   0.000000e+00  0.000000e+00  0.000000e+00   \n",
       "main_category_Publishing    1.000000e+00  0.000000e+00  1.000000e+00   \n",
       "main_category_Technology    0.000000e+00  0.000000e+00  0.000000e+00   \n",
       "main_category_Theater       0.000000e+00  0.000000e+00  0.000000e+00   \n",
       "country_AU                  0.000000e+00  0.000000e+00  0.000000e+00   \n",
       "country_BE                  0.000000e+00  0.000000e+00  0.000000e+00   \n",
       "country_CA                  0.000000e+00  0.000000e+00  0.000000e+00   \n",
       "country_CH                  0.000000e+00  0.000000e+00  0.000000e+00   \n",
       "country_DE                  0.000000e+00  0.000000e+00  0.000000e+00   \n",
       "country_DK                  0.000000e+00  0.000000e+00  0.000000e+00   \n",
       "country_ES                  0.000000e+00  0.000000e+00  0.000000e+00   \n",
       "country_FR                  0.000000e+00  0.000000e+00  0.000000e+00   \n",
       "country_GB                  0.000000e+00  0.000000e+00  0.000000e+00   \n",
       "country_HK                  0.000000e+00  0.000000e+00  0.000000e+00   \n",
       "country_IE                  0.000000e+00  0.000000e+00  0.000000e+00   \n",
       "country_IT                  0.000000e+00  0.000000e+00  0.000000e+00   \n",
       "country_JP                  0.000000e+00  0.000000e+00  0.000000e+00   \n",
       "country_LU                  0.000000e+00  0.000000e+00  0.000000e+00   \n",
       "country_MX                  0.000000e+00  0.000000e+00  0.000000e+00   \n",
       "country_NL                  0.000000e+00  0.000000e+00  0.000000e+00   \n",
       "country_NO                  0.000000e+00  0.000000e+00  0.000000e+00   \n",
       "country_NZ                  0.000000e+00  0.000000e+00  0.000000e+00   \n",
       "country_SE                  0.000000e+00  0.000000e+00  0.000000e+00   \n",
       "country_SG                  0.000000e+00  0.000000e+00  0.000000e+00   \n",
       "country_US                  1.000000e+00  1.000000e+00  1.000000e+00   \n",
       "\n",
       "                                  6             7             8      \\\n",
       "ID                          773177752.0  1.978055e+09  1.401878e+09   \n",
       "usd_goal_real                    4000.0  2.000000e+02  3.200000e+04   \n",
       "project_length                     29.0  2.900000e+01  2.900000e+01   \n",
       "main_category_Comics                1.0  0.000000e+00  0.000000e+00   \n",
       "main_category_Crafts                0.0  0.000000e+00  0.000000e+00   \n",
       "main_category_Dance                 0.0  0.000000e+00  0.000000e+00   \n",
       "main_category_Design                0.0  0.000000e+00  0.000000e+00   \n",
       "main_category_Fashion               0.0  0.000000e+00  0.000000e+00   \n",
       "main_category_Film & Video          0.0  0.000000e+00  0.000000e+00   \n",
       "main_category_Food                  0.0  0.000000e+00  0.000000e+00   \n",
       "main_category_Games                 0.0  0.000000e+00  0.000000e+00   \n",
       "main_category_Journalism            0.0  0.000000e+00  0.000000e+00   \n",
       "main_category_Music                 0.0  0.000000e+00  0.000000e+00   \n",
       "main_category_Photography           0.0  0.000000e+00  0.000000e+00   \n",
       "main_category_Publishing            0.0  1.000000e+00  1.000000e+00   \n",
       "main_category_Technology            0.0  0.000000e+00  0.000000e+00   \n",
       "main_category_Theater               0.0  0.000000e+00  0.000000e+00   \n",
       "country_AU                          0.0  0.000000e+00  0.000000e+00   \n",
       "country_BE                          0.0  0.000000e+00  0.000000e+00   \n",
       "country_CA                          0.0  0.000000e+00  0.000000e+00   \n",
       "country_CH                          0.0  0.000000e+00  0.000000e+00   \n",
       "country_DE                          0.0  0.000000e+00  0.000000e+00   \n",
       "country_DK                          0.0  0.000000e+00  0.000000e+00   \n",
       "country_ES                          0.0  0.000000e+00  0.000000e+00   \n",
       "country_FR                          0.0  0.000000e+00  0.000000e+00   \n",
       "country_GB                          0.0  0.000000e+00  0.000000e+00   \n",
       "country_HK                          0.0  0.000000e+00  0.000000e+00   \n",
       "country_IE                          0.0  0.000000e+00  0.000000e+00   \n",
       "country_IT                          0.0  0.000000e+00  0.000000e+00   \n",
       "country_JP                          0.0  0.000000e+00  0.000000e+00   \n",
       "country_LU                          0.0  0.000000e+00  0.000000e+00   \n",
       "country_MX                          0.0  0.000000e+00  0.000000e+00   \n",
       "country_NL                          0.0  0.000000e+00  0.000000e+00   \n",
       "country_NO                          0.0  0.000000e+00  0.000000e+00   \n",
       "country_NZ                          0.0  0.000000e+00  0.000000e+00   \n",
       "country_SE                          0.0  0.000000e+00  0.000000e+00   \n",
       "country_SG                          0.0  0.000000e+00  0.000000e+00   \n",
       "country_US                          1.0  1.000000e+00  1.000000e+00   \n",
       "\n",
       "                                   9          ...              82856  \\\n",
       "ID                          1.221080e+09      ...       2.100326e+09   \n",
       "usd_goal_real               1.600000e+04      ...       5.000000e+03   \n",
       "project_length              5.900000e+01      ...       2.900000e+01   \n",
       "main_category_Comics        0.000000e+00      ...       0.000000e+00   \n",
       "main_category_Crafts        0.000000e+00      ...       0.000000e+00   \n",
       "main_category_Dance         0.000000e+00      ...       0.000000e+00   \n",
       "main_category_Design        0.000000e+00      ...       0.000000e+00   \n",
       "main_category_Fashion       1.000000e+00      ...       0.000000e+00   \n",
       "main_category_Film & Video  0.000000e+00      ...       0.000000e+00   \n",
       "main_category_Food          0.000000e+00      ...       0.000000e+00   \n",
       "main_category_Games         0.000000e+00      ...       0.000000e+00   \n",
       "main_category_Journalism    0.000000e+00      ...       0.000000e+00   \n",
       "main_category_Music         0.000000e+00      ...       0.000000e+00   \n",
       "main_category_Photography   0.000000e+00      ...       0.000000e+00   \n",
       "main_category_Publishing    0.000000e+00      ...       0.000000e+00   \n",
       "main_category_Technology    0.000000e+00      ...       1.000000e+00   \n",
       "main_category_Theater       0.000000e+00      ...       0.000000e+00   \n",
       "country_AU                  0.000000e+00      ...       0.000000e+00   \n",
       "country_BE                  0.000000e+00      ...       0.000000e+00   \n",
       "country_CA                  0.000000e+00      ...       0.000000e+00   \n",
       "country_CH                  0.000000e+00      ...       0.000000e+00   \n",
       "country_DE                  0.000000e+00      ...       0.000000e+00   \n",
       "country_DK                  0.000000e+00      ...       0.000000e+00   \n",
       "country_ES                  0.000000e+00      ...       0.000000e+00   \n",
       "country_FR                  0.000000e+00      ...       0.000000e+00   \n",
       "country_GB                  0.000000e+00      ...       0.000000e+00   \n",
       "country_HK                  0.000000e+00      ...       0.000000e+00   \n",
       "country_IE                  0.000000e+00      ...       0.000000e+00   \n",
       "country_IT                  0.000000e+00      ...       0.000000e+00   \n",
       "country_JP                  0.000000e+00      ...       0.000000e+00   \n",
       "country_LU                  0.000000e+00      ...       0.000000e+00   \n",
       "country_MX                  0.000000e+00      ...       0.000000e+00   \n",
       "country_NL                  0.000000e+00      ...       0.000000e+00   \n",
       "country_NO                  0.000000e+00      ...       0.000000e+00   \n",
       "country_NZ                  0.000000e+00      ...       0.000000e+00   \n",
       "country_SE                  0.000000e+00      ...       0.000000e+00   \n",
       "country_SG                  0.000000e+00      ...       0.000000e+00   \n",
       "country_US                  1.000000e+00      ...       1.000000e+00   \n",
       "\n",
       "                                   82857         82858         82859  \\\n",
       "ID                          1.706684e+09  1.418265e+09  1.560101e+09   \n",
       "usd_goal_real               5.000000e+04  1.100000e+03  8.000000e+03   \n",
       "project_length              2.900000e+01  3.500000e+01  2.900000e+01   \n",
       "main_category_Comics        0.000000e+00  0.000000e+00  0.000000e+00   \n",
       "main_category_Crafts        0.000000e+00  0.000000e+00  0.000000e+00   \n",
       "main_category_Dance         0.000000e+00  0.000000e+00  0.000000e+00   \n",
       "main_category_Design        0.000000e+00  0.000000e+00  0.000000e+00   \n",
       "main_category_Fashion       0.000000e+00  0.000000e+00  0.000000e+00   \n",
       "main_category_Film & Video  1.000000e+00  0.000000e+00  0.000000e+00   \n",
       "main_category_Food          0.000000e+00  0.000000e+00  0.000000e+00   \n",
       "main_category_Games         0.000000e+00  0.000000e+00  0.000000e+00   \n",
       "main_category_Journalism    0.000000e+00  0.000000e+00  0.000000e+00   \n",
       "main_category_Music         0.000000e+00  1.000000e+00  0.000000e+00   \n",
       "main_category_Photography   0.000000e+00  0.000000e+00  1.000000e+00   \n",
       "main_category_Publishing    0.000000e+00  0.000000e+00  0.000000e+00   \n",
       "main_category_Technology    0.000000e+00  0.000000e+00  0.000000e+00   \n",
       "main_category_Theater       0.000000e+00  0.000000e+00  0.000000e+00   \n",
       "country_AU                  0.000000e+00  0.000000e+00  0.000000e+00   \n",
       "country_BE                  0.000000e+00  0.000000e+00  0.000000e+00   \n",
       "country_CA                  0.000000e+00  0.000000e+00  0.000000e+00   \n",
       "country_CH                  0.000000e+00  0.000000e+00  0.000000e+00   \n",
       "country_DE                  0.000000e+00  0.000000e+00  0.000000e+00   \n",
       "country_DK                  0.000000e+00  0.000000e+00  0.000000e+00   \n",
       "country_ES                  0.000000e+00  0.000000e+00  0.000000e+00   \n",
       "country_FR                  0.000000e+00  0.000000e+00  0.000000e+00   \n",
       "country_GB                  0.000000e+00  0.000000e+00  0.000000e+00   \n",
       "country_HK                  0.000000e+00  0.000000e+00  0.000000e+00   \n",
       "country_IE                  0.000000e+00  0.000000e+00  0.000000e+00   \n",
       "country_IT                  0.000000e+00  0.000000e+00  0.000000e+00   \n",
       "country_JP                  0.000000e+00  0.000000e+00  0.000000e+00   \n",
       "country_LU                  0.000000e+00  0.000000e+00  0.000000e+00   \n",
       "country_MX                  0.000000e+00  0.000000e+00  0.000000e+00   \n",
       "country_NL                  0.000000e+00  0.000000e+00  0.000000e+00   \n",
       "country_NO                  0.000000e+00  0.000000e+00  0.000000e+00   \n",
       "country_NZ                  0.000000e+00  0.000000e+00  0.000000e+00   \n",
       "country_SE                  0.000000e+00  0.000000e+00  0.000000e+00   \n",
       "country_SG                  0.000000e+00  0.000000e+00  0.000000e+00   \n",
       "country_US                  1.000000e+00  1.000000e+00  1.000000e+00   \n",
       "\n",
       "                                   82860         82861         82862  \\\n",
       "ID                          2.108482e+09  1.417321e+09  1.118699e+09   \n",
       "usd_goal_real               2.000000e+03  1.250000e+02  1.500100e+04   \n",
       "project_length              2.900000e+01  2.900000e+01  4.700000e+01   \n",
       "main_category_Comics        0.000000e+00  0.000000e+00  0.000000e+00   \n",
       "main_category_Crafts        0.000000e+00  0.000000e+00  0.000000e+00   \n",
       "main_category_Dance         0.000000e+00  0.000000e+00  0.000000e+00   \n",
       "main_category_Design        0.000000e+00  0.000000e+00  0.000000e+00   \n",
       "main_category_Fashion       0.000000e+00  0.000000e+00  0.000000e+00   \n",
       "main_category_Film & Video  1.000000e+00  0.000000e+00  1.000000e+00   \n",
       "main_category_Food          0.000000e+00  0.000000e+00  0.000000e+00   \n",
       "main_category_Games         0.000000e+00  0.000000e+00  0.000000e+00   \n",
       "main_category_Journalism    0.000000e+00  0.000000e+00  0.000000e+00   \n",
       "main_category_Music         0.000000e+00  0.000000e+00  0.000000e+00   \n",
       "main_category_Photography   0.000000e+00  0.000000e+00  0.000000e+00   \n",
       "main_category_Publishing    0.000000e+00  0.000000e+00  0.000000e+00   \n",
       "main_category_Technology    0.000000e+00  1.000000e+00  0.000000e+00   \n",
       "main_category_Theater       0.000000e+00  0.000000e+00  0.000000e+00   \n",
       "country_AU                  0.000000e+00  0.000000e+00  0.000000e+00   \n",
       "country_BE                  0.000000e+00  0.000000e+00  0.000000e+00   \n",
       "country_CA                  0.000000e+00  0.000000e+00  0.000000e+00   \n",
       "country_CH                  0.000000e+00  0.000000e+00  0.000000e+00   \n",
       "country_DE                  0.000000e+00  0.000000e+00  0.000000e+00   \n",
       "country_DK                  0.000000e+00  0.000000e+00  0.000000e+00   \n",
       "country_ES                  0.000000e+00  0.000000e+00  0.000000e+00   \n",
       "country_FR                  0.000000e+00  0.000000e+00  0.000000e+00   \n",
       "country_GB                  0.000000e+00  0.000000e+00  0.000000e+00   \n",
       "country_HK                  0.000000e+00  0.000000e+00  0.000000e+00   \n",
       "country_IE                  0.000000e+00  0.000000e+00  0.000000e+00   \n",
       "country_IT                  0.000000e+00  0.000000e+00  0.000000e+00   \n",
       "country_JP                  0.000000e+00  0.000000e+00  0.000000e+00   \n",
       "country_LU                  0.000000e+00  0.000000e+00  0.000000e+00   \n",
       "country_MX                  0.000000e+00  0.000000e+00  0.000000e+00   \n",
       "country_NL                  0.000000e+00  0.000000e+00  0.000000e+00   \n",
       "country_NO                  0.000000e+00  0.000000e+00  0.000000e+00   \n",
       "country_NZ                  0.000000e+00  0.000000e+00  0.000000e+00   \n",
       "country_SE                  0.000000e+00  0.000000e+00  0.000000e+00   \n",
       "country_SG                  0.000000e+00  0.000000e+00  0.000000e+00   \n",
       "country_US                  1.000000e+00  1.000000e+00  1.000000e+00   \n",
       "\n",
       "                                   82863         82864         82865  \n",
       "ID                          1.688645e+09  5.376285e+08  1.754594e+09  \n",
       "usd_goal_real               1.200000e+03  8.737631e+04  2.610045e+04  \n",
       "project_length              2.900000e+01  3.000000e+01  2.900000e+01  \n",
       "main_category_Comics        0.000000e+00  0.000000e+00  0.000000e+00  \n",
       "main_category_Crafts        0.000000e+00  0.000000e+00  0.000000e+00  \n",
       "main_category_Dance         0.000000e+00  0.000000e+00  0.000000e+00  \n",
       "main_category_Design        0.000000e+00  0.000000e+00  0.000000e+00  \n",
       "main_category_Fashion       0.000000e+00  0.000000e+00  0.000000e+00  \n",
       "main_category_Film & Video  0.000000e+00  0.000000e+00  0.000000e+00  \n",
       "main_category_Food          0.000000e+00  0.000000e+00  0.000000e+00  \n",
       "main_category_Games         0.000000e+00  1.000000e+00  0.000000e+00  \n",
       "main_category_Journalism    0.000000e+00  0.000000e+00  0.000000e+00  \n",
       "main_category_Music         1.000000e+00  0.000000e+00  0.000000e+00  \n",
       "main_category_Photography   0.000000e+00  0.000000e+00  0.000000e+00  \n",
       "main_category_Publishing    0.000000e+00  0.000000e+00  0.000000e+00  \n",
       "main_category_Technology    0.000000e+00  0.000000e+00  1.000000e+00  \n",
       "main_category_Theater       0.000000e+00  0.000000e+00  0.000000e+00  \n",
       "country_AU                  0.000000e+00  0.000000e+00  1.000000e+00  \n",
       "country_BE                  0.000000e+00  0.000000e+00  0.000000e+00  \n",
       "country_CA                  0.000000e+00  0.000000e+00  0.000000e+00  \n",
       "country_CH                  0.000000e+00  0.000000e+00  0.000000e+00  \n",
       "country_DE                  0.000000e+00  0.000000e+00  0.000000e+00  \n",
       "country_DK                  0.000000e+00  0.000000e+00  0.000000e+00  \n",
       "country_ES                  0.000000e+00  1.000000e+00  0.000000e+00  \n",
       "country_FR                  0.000000e+00  0.000000e+00  0.000000e+00  \n",
       "country_GB                  0.000000e+00  0.000000e+00  0.000000e+00  \n",
       "country_HK                  0.000000e+00  0.000000e+00  0.000000e+00  \n",
       "country_IE                  0.000000e+00  0.000000e+00  0.000000e+00  \n",
       "country_IT                  0.000000e+00  0.000000e+00  0.000000e+00  \n",
       "country_JP                  0.000000e+00  0.000000e+00  0.000000e+00  \n",
       "country_LU                  0.000000e+00  0.000000e+00  0.000000e+00  \n",
       "country_MX                  0.000000e+00  0.000000e+00  0.000000e+00  \n",
       "country_NL                  0.000000e+00  0.000000e+00  0.000000e+00  \n",
       "country_NO                  0.000000e+00  0.000000e+00  0.000000e+00  \n",
       "country_NZ                  0.000000e+00  0.000000e+00  0.000000e+00  \n",
       "country_SE                  0.000000e+00  0.000000e+00  0.000000e+00  \n",
       "country_SG                  0.000000e+00  0.000000e+00  0.000000e+00  \n",
       "country_US                  1.000000e+00  0.000000e+00  0.000000e+00  \n",
       "\n",
       "[38 rows x 82866 columns]"
      ]
     },
     "execution_count": 103,
     "metadata": {},
     "output_type": "execute_result"
    }
   ],
   "source": [
    "X_test2.T"
   ]
  },
  {
   "cell_type": "code",
   "execution_count": 109,
   "metadata": {},
   "outputs": [
    {
     "data": {
      "text/plain": [
       "0.09927902"
      ]
     },
     "execution_count": 109,
     "metadata": {},
     "output_type": "execute_result"
    }
   ],
   "source": [
    "y_score_xgb[82865]"
   ]
  },
  {
   "cell_type": "code",
   "execution_count": null,
   "metadata": {},
   "outputs": [],
   "source": [
    "fpr_xgb, tpr_xgb, thresholds_xgb = roc_curve(y_test, y_score_xgb)"
   ]
  },
  {
   "cell_type": "code",
   "execution_count": null,
   "metadata": {},
   "outputs": [],
   "source": [
    "#Seaborns Beautiful Styling\n",
    "sns.set_style(\"darkgrid\", {\"axes.facecolor\": \".9\"})\n",
    "print('AUC: {}'.format(auc(fpr, tpr)))\n",
    "plt.figure(figsize=(10,8))\n",
    "lw = 2\n",
    "plt.plot(fpr_xgb, tpr_xgb, color='darkorange',lw=lw, label='ROC curve')\n",
    "plt.plot([0, 1], [0, 1], color='navy', lw=lw, linestyle='--')\n",
    "plt.xlim([0.0, 1.0])\n",
    "plt.ylim([0.0, 1.05])\n",
    "plt.yticks([i/20.0 for i in range(21)])\n",
    "plt.xticks([i/20.0 for i in range(21)])\n",
    "plt.xlabel('False Positive Rate')\n",
    "plt.ylabel('True Positive Rate')\n",
    "plt.title('Receiver operating characteristic (ROC) Curve')\n",
    "plt.legend(loc=\"lower right\")\n",
    "plt.show()"
   ]
  },
  {
   "cell_type": "code",
   "execution_count": null,
   "metadata": {},
   "outputs": [],
   "source": []
  },
  {
   "cell_type": "code",
   "execution_count": null,
   "metadata": {},
   "outputs": [],
   "source": []
  },
  {
   "cell_type": "markdown",
   "metadata": {},
   "source": [
    "## Looking at scores, which one matters most? "
   ]
  },
  {
   "cell_type": "markdown",
   "metadata": {},
   "source": [
    "As a rule of thumb, if the cost of having False negative is high, we want to increase the model sensitivity and recall!\n",
    "\n",
    "On the other hand, if the cost of having False positive is high, then we want to increase the model specificity and precision! \n",
    "\n",
    "In our case, a false negative is -- the project would do well on kickstarter but we classified it as failing -- and a false positive is -- the project would fail on kickstarter but we classified it as successful.\n",
    "\n",
    "The cost of our False positive is higher"
   ]
  },
  {
   "cell_type": "markdown",
   "metadata": {},
   "source": [
    "## PCA"
   ]
  },
  {
   "cell_type": "code",
   "execution_count": null,
   "metadata": {},
   "outputs": [],
   "source": [
    "from sklearn.cluster import KMeans, AgglomerativeClustering\n",
    "from sklearn.metrics import calinski_harabasz_score\n",
    "from sklearn.decomposition import PCA\n",
    "from sklearn.preprocessing import StandardScaler"
   ]
  },
  {
   "cell_type": "code",
   "execution_count": null,
   "metadata": {},
   "outputs": [],
   "source": [
    "ss = StandardScaler()\n",
    "scaled_data = ss.fit_transform(X_train2)"
   ]
  },
  {
   "cell_type": "code",
   "execution_count": null,
   "metadata": {},
   "outputs": [],
   "source": [
    "scaled_df = pd.DataFrame(data=scaled_data)"
   ]
  },
  {
   "cell_type": "code",
   "execution_count": null,
   "metadata": {},
   "outputs": [],
   "source": [
    "pca = PCA(n_components=2)\n",
    "#pca_data = pca.fit_transform(scaled_df)\n",
    "pca_data = pca.fit_transform(scaled_df)\n",
    "\n",
    "pca_df = pd.DataFrame(data=pca_data, columns=['pca1','pca2'])"
   ]
  },
  {
   "cell_type": "code",
   "execution_count": null,
   "metadata": {},
   "outputs": [],
   "source": [
    "model= KMeans(n_clusters=4, random_state=2019).fit(pca_df)\n",
    "model_label = model.labels_\n",
    "model_centers= model.cluster_centers_\n",
    "\n",
    "fig = plt.figure(figsize=(12,15))\n",
    "ax = fig.add_subplot(111)\n",
    "scatter = ax.scatter(pca_df['pca1'],pca_df['pca2'],\n",
    "                    c=model_label,s=50)\n",
    "ax.set_title(\"K-Means Clustering\")\n",
    "ax.set_xlabel('pca1')\n",
    "ax.set_ylabel('pca2')\n",
    "plt.colorbar(scatter)\n",
    "plt.scatter(model_centers[:,0],model_centers[:,1],c='red',marker='*')"
   ]
  },
  {
   "cell_type": "code",
   "execution_count": null,
   "metadata": {},
   "outputs": [],
   "source": [
    "pca_component_df = pd.DataFrame(pca.components_)"
   ]
  },
  {
   "cell_type": "code",
   "execution_count": null,
   "metadata": {},
   "outputs": [],
   "source": [
    "pca_component_df.head()"
   ]
  },
  {
   "cell_type": "code",
   "execution_count": null,
   "metadata": {},
   "outputs": [],
   "source": [
    "pca_c_df = pca_component_df.T "
   ]
  },
  {
   "cell_type": "code",
   "execution_count": null,
   "metadata": {},
   "outputs": [],
   "source": [
    "pca_c_df.columns = ['pca1','pca2']\n"
   ]
  },
  {
   "cell_type": "code",
   "execution_count": null,
   "metadata": {},
   "outputs": [],
   "source": [
    "pca_c_df.head()"
   ]
  },
  {
   "cell_type": "code",
   "execution_count": null,
   "metadata": {},
   "outputs": [],
   "source": [
    "pca_c_df['pca1'].sort_values(ascending=False).head(5)"
   ]
  },
  {
   "cell_type": "code",
   "execution_count": null,
   "metadata": {},
   "outputs": [],
   "source": [
    "pca_c_df['pca2'].sort_values(ascending=False).head(5)"
   ]
  },
  {
   "cell_type": "code",
   "execution_count": null,
   "metadata": {},
   "outputs": [],
   "source": [
    "pca.explained_variance_"
   ]
  },
  {
   "cell_type": "code",
   "execution_count": null,
   "metadata": {},
   "outputs": [],
   "source": [
    "pca2= PCA(.90)\n",
    "pca2.fit(scaled_df)"
   ]
  },
  {
   "cell_type": "code",
   "execution_count": null,
   "metadata": {},
   "outputs": [],
   "source": [
    "pca2.n_components_"
   ]
  },
  {
   "cell_type": "code",
   "execution_count": null,
   "metadata": {},
   "outputs": [],
   "source": [
    "X_train2.shape"
   ]
  },
  {
   "cell_type": "code",
   "execution_count": null,
   "metadata": {},
   "outputs": [],
   "source": [
    "np.sort(pca.components_[0])"
   ]
  },
  {
   "cell_type": "code",
   "execution_count": null,
   "metadata": {},
   "outputs": [],
   "source": [
    "for pca in pca.components_:\n",
    "    print(np.amax(pca),np.argmax(pca))"
   ]
  },
  {
   "cell_type": "code",
   "execution_count": null,
   "metadata": {},
   "outputs": [],
   "source": [
    "np.amax(pca.components_[0]),np.argmax(pca.components_[0])"
   ]
  },
  {
   "cell_type": "code",
   "execution_count": null,
   "metadata": {},
   "outputs": [],
   "source": [
    "def max(arr):\n",
    "    max_ = arr[0]\n",
    "    for item in arr:\n",
    "        if item > max_:\n",
    "            max_ = item\n",
    "    return max_  "
   ]
  },
  {
   "cell_type": "code",
   "execution_count": null,
   "metadata": {},
   "outputs": [],
   "source": [
    "sorted(list(pca.components_[0]),reverse=True)"
   ]
  },
  {
   "cell_type": "code",
   "execution_count": null,
   "metadata": {},
   "outputs": [],
   "source": [
    "pca.components_[0]"
   ]
  },
  {
   "cell_type": "code",
   "execution_count": null,
   "metadata": {},
   "outputs": [],
   "source": [
    "sorted(list(pca.components_[1]),reverse=True)"
   ]
  },
  {
   "cell_type": "code",
   "execution_count": null,
   "metadata": {},
   "outputs": [],
   "source": [
    "pca.components_[1]"
   ]
  },
  {
   "cell_type": "code",
   "execution_count": null,
   "metadata": {},
   "outputs": [],
   "source": [
    "df_2018_concat.head()"
   ]
  },
  {
   "cell_type": "code",
   "execution_count": null,
   "metadata": {},
   "outputs": [],
   "source": [
    "predictors, target = (df_2018_concat.drop(\"state\", axis=1),df_2018_concat[\"state\"])"
   ]
  },
  {
   "cell_type": "code",
   "execution_count": null,
   "metadata": {},
   "outputs": [],
   "source": [
    "classifiers = [DecisionTreeClassifier(), RandomForestClassifier(n_estimators=100, max_depth=5), \n",
    "               GradientBoostingClassifier(n_estimators=100), xgb.XGBClassifier()]"
   ]
  },
  {
   "cell_type": "markdown",
   "metadata": {},
   "source": [
    "## K Means Clustering"
   ]
  },
  {
   "cell_type": "code",
   "execution_count": null,
   "metadata": {},
   "outputs": [],
   "source": [
    "from sklearn.cluster import KMeans, AgglomerativeClustering\n",
    "from sklearn.metrics import calinski_harabaz_score\n",
    "from sklearn.decomposition import PCA\n",
    "from sklearn.preprocessing import StandardScaler\n"
   ]
  },
  {
   "cell_type": "code",
   "execution_count": null,
   "metadata": {},
   "outputs": [],
   "source": [
    "ss = StandardScaler()\n",
    "scaled_data = ss.fit_transform(X_train2)"
   ]
  },
  {
   "cell_type": "code",
   "execution_count": null,
   "metadata": {},
   "outputs": [],
   "source": [
    "scaled_df=pd.DataFrame(data=scaled_data)"
   ]
  },
  {
   "cell_type": "code",
   "execution_count": null,
   "metadata": {},
   "outputs": [],
   "source": [
    "pca = PCA(n_components=2)\n",
    "pca_data = pca.fit_transform(scaled_df)\n",
    "pca_df = pd.DataFrame(data=pca_data, columns=['pca1', 'pca2'])"
   ]
  },
  {
   "cell_type": "code",
   "execution_count": null,
   "metadata": {},
   "outputs": [],
   "source": [
    "model = KMeans(n_clusters=3, random_state=10).fit(pca_df) # Must set number of clusters at initialization time!\n",
    "model_label = model.labels_\n",
    "model_centers= model.cluster_centers_\n",
    "\n",
    "# cluster predictions for each point are also stored in k_means.labels_ attribute"
   ]
  },
  {
   "cell_type": "code",
   "execution_count": null,
   "metadata": {},
   "outputs": [],
   "source": [
    "fig = plt.figure()\n",
    "ax = fig.add_subplot(111)\n",
    "scatter = ax.scatter(pca_df['pca1'], pca_df['pca2'],\n",
    "                    c=model_label, s=50)\n",
    "ax.set_title('K-Means Clustering')\n",
    "ax.set_xlabel('pca1')\n",
    "ax.set_ylabel('pca2')\n",
    "plt.colorbar(scatter)\n",
    "plt.scatter(model_centers[:,0], model_centers[:,1], c='red', marker='*');"
   ]
  },
  {
   "cell_type": "code",
   "execution_count": null,
   "metadata": {},
   "outputs": [],
   "source": [
    "pca.components_"
   ]
  },
  {
   "cell_type": "code",
   "execution_count": null,
   "metadata": {},
   "outputs": [],
   "source": [
    "ss = StandardScaler()\n",
    "scaled_data = ss.fit_transform(X_test2)"
   ]
  },
  {
   "cell_type": "code",
   "execution_count": null,
   "metadata": {},
   "outputs": [],
   "source": [
    "scaled_df=pd.DataFrame(data=scaled_data)"
   ]
  },
  {
   "cell_type": "code",
   "execution_count": null,
   "metadata": {},
   "outputs": [],
   "source": [
    "pca = PCA(n_components=2)\n",
    "pca_data = pca.fit_transform(scaled_df)\n",
    "pca_df = pd.DataFrame(data=pca_data, columns=['pca1', 'pca2'])"
   ]
  },
  {
   "cell_type": "code",
   "execution_count": null,
   "metadata": {},
   "outputs": [],
   "source": [
    "model = KMeans(n_clusters=3, random_state=10).fit(pca_df) # Must set number of clusters at initialization time!\n",
    "model_label = model.labels_\n",
    "model_centers= model.cluster_centers_\n",
    "\n",
    "# cluster predictions for each point are also stored in k_means.labels_ attribute"
   ]
  },
  {
   "cell_type": "code",
   "execution_count": null,
   "metadata": {},
   "outputs": [],
   "source": [
    "fig = plt.figure()\n",
    "ax = fig.add_subplot(111)\n",
    "scatter = ax.scatter(pca_df['pca1'], pca_df['pca2'],\n",
    "                    c=model_label, s=50)\n",
    "ax.set_title('K-Means Clustering')\n",
    "ax.set_xlabel('pca1')\n",
    "ax.set_ylabel('pca2')\n",
    "plt.colorbar(scatter)\n",
    "plt.scatter(model_centers[:,0], model_centers[:,1], c='red', marker='*');"
   ]
  },
  {
   "cell_type": "code",
   "execution_count": null,
   "metadata": {},
   "outputs": [],
   "source": [
    "pca.components_"
   ]
  },
  {
   "cell_type": "code",
   "execution_count": null,
   "metadata": {},
   "outputs": [],
   "source": []
  }
 ],
 "metadata": {
  "kernelspec": {
   "display_name": "Python 3",
   "language": "python",
   "name": "python3"
  },
  "language_info": {
   "codemirror_mode": {
    "name": "ipython",
    "version": 3
   },
   "file_extension": ".py",
   "mimetype": "text/x-python",
   "name": "python",
   "nbconvert_exporter": "python",
   "pygments_lexer": "ipython3",
   "version": "3.6.6"
  }
 },
 "nbformat": 4,
 "nbformat_minor": 2
}
